{
 "cells": [
  {
   "cell_type": "markdown",
   "metadata": {},
   "source": [
    "# Prediksi Tingkat Perceraian Berdasarkan Seleksi Fitur"
   ]
  },
  {
   "cell_type": "markdown",
   "metadata": {},
   "source": [
    "Dalam project kali ini, akan diprediksi perceraian yang dilakukan menggunakan mmetode classification dengan algoritma Logistic Regression pada terapi pasangan oleh psikolog John Gottman. Usia responden berkisar antara 20 hingga 63 tahun (X̄ = 36,04, SD = 9,34). Terdiri dari 170 peserta (84 laki-laki dan 86 perempuan). Peserta mengisi \"Formulir Informasi Pribadi\" dan kuesioner \"Skala Prediktor Perceraian\". Project ini bertujuan untuk menemukan fitur/variabel yang signifikan dalam skala prediktor perceraian yang memengaruhi tingkat perceraian."
   ]
  },
  {
   "cell_type": "markdown",
   "metadata": {},
   "source": [
    "Pada data terdiri dari dua kelas yaitu bercerai (1) dan tetap menikah (0). Adapun skala penilaian dari kuesioner ini yaitu 0 sampai 4 dimana :\n",
    "\n",
    "0 = Sangat tidak setuju\n",
    "\n",
    "1 = Tidak setuju\n",
    "\n",
    "2 = Netral\n",
    "\n",
    "3 = Setuju\n",
    "\n",
    "4 = Sangat setuju"
   ]
  },
  {
   "cell_type": "markdown",
   "metadata": {},
   "source": [
    "Data bersumber dari UCI Machine Learning: https://archive.ics.uci.edu/ml/datasets/Divorce+Predictors+data+set"
   ]
  },
  {
   "cell_type": "markdown",
   "metadata": {},
   "source": [
    "Informasi Atribut pada Kuesioner sebagai berikut:\n",
    "\n",
    "1. Jika salah satu dari kami meminta maaf ketika diskusi kami memburuk, maka diskusi berakhir.\n",
    "2. Saya tahu kami bisa mengabaikan perbedaan diantara kita, meskipun terkadang keadaan menjadi rumit.\n",
    "3. Ketika kami membutuhkannya, kami dapat berdiskusi dengan pasangan saya dari awal dan memperbaikinya.\n",
    "4. Ketika saya berdebat dengan pasangan saya, pada akhirnya akan berhasil bagi saya untuk menghubunginya.\n",
    "5. Waktu yang saya habiskan bersama istri sangat istimewa bagi kami.\n",
    "6. Kami tidak punya waktu di rumah sebagai mitra.\n",
    "7. Kita seperti dua orang asing yang berbagi lingkungan yang sama di rumah daripada keluarga.\n",
    "8. Saya menikmati liburan kami bersama istri saya.\n",
    "9. Saya menikmati bepergian dengan istri saya.\n",
    "10. Sebagian besar tujuan kita adalah hal umum bagi pasangan saya.\n",
    "11. Saya berpikir bahwa suatu hari di masa depan, ketika saya melihat ke belakang, saya melihat bahwa pasangan saya dan saya  \n",
    "    telah selaras satu sama lain.\n",
    "12. Pasangan saya dan saya memiliki nilai-nilai yang sama dalam hal kebebasan pribadi.\n",
    "13. Pasangan saya dan saya memiliki selera hiburan yang serupa.\n",
    "14. Sebagian besar tujuan kita untuk orang (anak-anak, teman, dll.) adalah sama.\n",
    "15. Impian kami dengan pasangan saya adalah sama dan harmonis.\n",
    "16. Kami kompatibel dengan pasangan saya tentang apa itu cinta.\n",
    "17. Kami memiliki pandangan yang sama tentang bahagia dalam hidup kami dengan pasangan saya\n",
    "18. Pasangan saya dan saya memiliki gagasan serupa tentang bagaimana pernikahan seharusnya\n",
    "19. Pasangan saya dan saya memiliki gagasan serupa tentang bagaimana seharusnya peran dalam pernikahan\n",
    "20. Pasangan saya dan saya memiliki nilai-nilai yang sama dalam kepercayaan.\n",
    "21. Saya tahu persis apa yang disukai istri saya.\n",
    "22. Saya tahu bagaimana pasangan saya ingin dirawat ketika dia sakit.\n",
    "23. Saya tahu makanan favorit pasangan saya.\n",
    "24. Saya bisa memberi tahu Anda apa jenis stres yang dihadapi pasangan saya dalam hidupnya.\n",
    "25. Saya memiliki pengetahuan tentang dunia batin pasangan saya.\n",
    "26. Saya tahu kecemasan dasar pasangan saya.\n",
    "27. Saya tahu apa sumber stres pasangan saya saat ini.\n",
    "28. Saya tahu harapan saya dan pasangan.\n",
    "29. Saya sangat mengenal pasangan saya.\n",
    "30. Saya tahu teman-teman pasangan saya dan hubungan sosial mereka.\n",
    "31. Saya merasa agresif ketika berdebat dengan pasangan saya.\n",
    "32. Saat berdiskusi dengan pasangan saya, saya biasanya menggunakan ungkapan seperti 'kamu selalu' atau 'kamu tidak pernah'.\n",
    "33. Saya dapat menggunakan pernyataan negatif tentang kepribadian pasangan saya selama diskusi kami.\n",
    "34. Saya dapat menggunakan ekspresi ofensif selama diskusi kami.\n",
    "35. Saya bisa menghina pasangan saya selama diskusi kami.\n",
    "36. Saya bisa mempermalukan pasangan saat kami berdiskusi.\n",
    "37. Diskusi saya dengan pasangan saya tidak tenang.\n",
    "38. Saya benci cara pasangan saya membuka suatu topik.\n",
    "39. Diskusi kita sering terjadi secara tiba-tiba.\n",
    "40. Kami baru memulai diskusi sebelum saya tahu apa yang terjadi.\n",
    "41. Ketika saya berbicara dengan pasangan saya tentang sesuatu, ketenangan saya tiba-tiba pecah.\n",
    "42. Ketika saya berdebat dengan pasangan saya, saya hanya keluar dan saya tidak mengatakan sepatah kata pun.\n",
    "43. Saya lebih banyak diam untuk menenangkan sedikit situasi.\n",
    "44. Kadang-kadang saya pikir itu baik bagi saya untuk meninggalkan rumah untuk sementara waktu.\n",
    "45. Saya lebih suka diam daripada berdiskusi dengan pasangan saya.\n",
    "46. Bahkan jika saya benar dalam diskusi, saya tetap diam untuk menyakiti pasangan saya.\n",
    "47. Ketika saya berdiskusi dengan pasangan saya, saya tetap diam karena saya takut tidak bisa mengendalikan amarah saya.\n",
    "48. Saya merasa benar dalam diskusi kami.\n",
    "49. Saya tidak ada hubungannya dengan apa yang telah saya tuduhkan.\n",
    "50. Saya sebenarnya bukan orang yang bersalah atas apa yang saya tuduhkan.\n",
    "51. Saya bukan orang yang salah tentang masalah di rumah.\n",
    "52. Saya tidak akan ragu untuk memberi tahu pasangan saya tentang ketidakmampuannya.\n",
    "53. Ketika saya berdiskusi, saya mengingatkan pasangan saya tentang ketidakmampuannya.\n",
    "54. Saya tidak takut memberi tahu pasangan saya tentang ketidakmampuannya."
   ]
  },
  {
   "cell_type": "markdown",
   "metadata": {},
   "source": [
    "## Mengimpor Fungsi dari Library"
   ]
  },
  {
   "cell_type": "code",
   "execution_count": 2,
   "metadata": {},
   "outputs": [],
   "source": [
    "# linear algebra\n",
    "import numpy as np\n",
    "\n",
    "# data processing\n",
    "import pandas as pd\n",
    "\n",
    "# data visualization \n",
    "import matplotlib.pyplot as plt\n",
    "\n",
    "# Algorithms\n",
    "from sklearn.model_selection import train_test_split\n",
    "from sklearn.ensemble import RandomForestClassifier\n",
    "from sklearn.metrics import accuracy_score\n",
    "from sklearn.linear_model import LogisticRegression"
   ]
  },
  {
   "cell_type": "markdown",
   "metadata": {},
   "source": [
    "## Memuat dan Membaca Dataset"
   ]
  },
  {
   "cell_type": "code",
   "execution_count": 146,
   "metadata": {},
   "outputs": [],
   "source": [
    "df = pd.read_excel('dataset/divorce.xlsx')"
   ]
  },
  {
   "cell_type": "code",
   "execution_count": 147,
   "metadata": {
    "scrolled": true
   },
   "outputs": [
    {
     "data": {
      "text/html": [
       "<div>\n",
       "<style scoped>\n",
       "    .dataframe tbody tr th:only-of-type {\n",
       "        vertical-align: middle;\n",
       "    }\n",
       "\n",
       "    .dataframe tbody tr th {\n",
       "        vertical-align: top;\n",
       "    }\n",
       "\n",
       "    .dataframe thead th {\n",
       "        text-align: right;\n",
       "    }\n",
       "</style>\n",
       "<table border=\"1\" class=\"dataframe\">\n",
       "  <thead>\n",
       "    <tr style=\"text-align: right;\">\n",
       "      <th></th>\n",
       "      <th>Atr1</th>\n",
       "      <th>Atr2</th>\n",
       "      <th>Atr3</th>\n",
       "      <th>Atr4</th>\n",
       "      <th>Atr5</th>\n",
       "      <th>Atr6</th>\n",
       "      <th>Atr7</th>\n",
       "      <th>Atr8</th>\n",
       "      <th>Atr9</th>\n",
       "      <th>Atr10</th>\n",
       "      <th>...</th>\n",
       "      <th>Atr46</th>\n",
       "      <th>Atr47</th>\n",
       "      <th>Atr48</th>\n",
       "      <th>Atr49</th>\n",
       "      <th>Atr50</th>\n",
       "      <th>Atr51</th>\n",
       "      <th>Atr52</th>\n",
       "      <th>Atr53</th>\n",
       "      <th>Atr54</th>\n",
       "      <th>Class</th>\n",
       "    </tr>\n",
       "  </thead>\n",
       "  <tbody>\n",
       "    <tr>\n",
       "      <th>0</th>\n",
       "      <td>2</td>\n",
       "      <td>2</td>\n",
       "      <td>4</td>\n",
       "      <td>1</td>\n",
       "      <td>0</td>\n",
       "      <td>0</td>\n",
       "      <td>0</td>\n",
       "      <td>0</td>\n",
       "      <td>0</td>\n",
       "      <td>0</td>\n",
       "      <td>...</td>\n",
       "      <td>2</td>\n",
       "      <td>1</td>\n",
       "      <td>3</td>\n",
       "      <td>3</td>\n",
       "      <td>3</td>\n",
       "      <td>2</td>\n",
       "      <td>3</td>\n",
       "      <td>2</td>\n",
       "      <td>1</td>\n",
       "      <td>1</td>\n",
       "    </tr>\n",
       "    <tr>\n",
       "      <th>1</th>\n",
       "      <td>4</td>\n",
       "      <td>4</td>\n",
       "      <td>4</td>\n",
       "      <td>4</td>\n",
       "      <td>4</td>\n",
       "      <td>0</td>\n",
       "      <td>0</td>\n",
       "      <td>4</td>\n",
       "      <td>4</td>\n",
       "      <td>4</td>\n",
       "      <td>...</td>\n",
       "      <td>2</td>\n",
       "      <td>2</td>\n",
       "      <td>3</td>\n",
       "      <td>4</td>\n",
       "      <td>4</td>\n",
       "      <td>4</td>\n",
       "      <td>4</td>\n",
       "      <td>2</td>\n",
       "      <td>2</td>\n",
       "      <td>1</td>\n",
       "    </tr>\n",
       "    <tr>\n",
       "      <th>2</th>\n",
       "      <td>2</td>\n",
       "      <td>2</td>\n",
       "      <td>2</td>\n",
       "      <td>2</td>\n",
       "      <td>1</td>\n",
       "      <td>3</td>\n",
       "      <td>2</td>\n",
       "      <td>1</td>\n",
       "      <td>1</td>\n",
       "      <td>2</td>\n",
       "      <td>...</td>\n",
       "      <td>3</td>\n",
       "      <td>2</td>\n",
       "      <td>3</td>\n",
       "      <td>1</td>\n",
       "      <td>1</td>\n",
       "      <td>1</td>\n",
       "      <td>2</td>\n",
       "      <td>2</td>\n",
       "      <td>2</td>\n",
       "      <td>1</td>\n",
       "    </tr>\n",
       "    <tr>\n",
       "      <th>3</th>\n",
       "      <td>3</td>\n",
       "      <td>2</td>\n",
       "      <td>3</td>\n",
       "      <td>2</td>\n",
       "      <td>3</td>\n",
       "      <td>3</td>\n",
       "      <td>3</td>\n",
       "      <td>3</td>\n",
       "      <td>3</td>\n",
       "      <td>3</td>\n",
       "      <td>...</td>\n",
       "      <td>2</td>\n",
       "      <td>2</td>\n",
       "      <td>3</td>\n",
       "      <td>3</td>\n",
       "      <td>3</td>\n",
       "      <td>3</td>\n",
       "      <td>2</td>\n",
       "      <td>2</td>\n",
       "      <td>2</td>\n",
       "      <td>1</td>\n",
       "    </tr>\n",
       "    <tr>\n",
       "      <th>4</th>\n",
       "      <td>2</td>\n",
       "      <td>2</td>\n",
       "      <td>1</td>\n",
       "      <td>1</td>\n",
       "      <td>1</td>\n",
       "      <td>1</td>\n",
       "      <td>0</td>\n",
       "      <td>0</td>\n",
       "      <td>0</td>\n",
       "      <td>0</td>\n",
       "      <td>...</td>\n",
       "      <td>2</td>\n",
       "      <td>1</td>\n",
       "      <td>2</td>\n",
       "      <td>3</td>\n",
       "      <td>2</td>\n",
       "      <td>2</td>\n",
       "      <td>2</td>\n",
       "      <td>1</td>\n",
       "      <td>0</td>\n",
       "      <td>1</td>\n",
       "    </tr>\n",
       "    <tr>\n",
       "      <th>...</th>\n",
       "      <td>...</td>\n",
       "      <td>...</td>\n",
       "      <td>...</td>\n",
       "      <td>...</td>\n",
       "      <td>...</td>\n",
       "      <td>...</td>\n",
       "      <td>...</td>\n",
       "      <td>...</td>\n",
       "      <td>...</td>\n",
       "      <td>...</td>\n",
       "      <td>...</td>\n",
       "      <td>...</td>\n",
       "      <td>...</td>\n",
       "      <td>...</td>\n",
       "      <td>...</td>\n",
       "      <td>...</td>\n",
       "      <td>...</td>\n",
       "      <td>...</td>\n",
       "      <td>...</td>\n",
       "      <td>...</td>\n",
       "      <td>...</td>\n",
       "    </tr>\n",
       "    <tr>\n",
       "      <th>165</th>\n",
       "      <td>0</td>\n",
       "      <td>0</td>\n",
       "      <td>0</td>\n",
       "      <td>0</td>\n",
       "      <td>0</td>\n",
       "      <td>0</td>\n",
       "      <td>0</td>\n",
       "      <td>0</td>\n",
       "      <td>0</td>\n",
       "      <td>0</td>\n",
       "      <td>...</td>\n",
       "      <td>1</td>\n",
       "      <td>0</td>\n",
       "      <td>4</td>\n",
       "      <td>1</td>\n",
       "      <td>1</td>\n",
       "      <td>4</td>\n",
       "      <td>2</td>\n",
       "      <td>2</td>\n",
       "      <td>2</td>\n",
       "      <td>0</td>\n",
       "    </tr>\n",
       "    <tr>\n",
       "      <th>166</th>\n",
       "      <td>0</td>\n",
       "      <td>0</td>\n",
       "      <td>0</td>\n",
       "      <td>0</td>\n",
       "      <td>0</td>\n",
       "      <td>0</td>\n",
       "      <td>0</td>\n",
       "      <td>0</td>\n",
       "      <td>0</td>\n",
       "      <td>0</td>\n",
       "      <td>...</td>\n",
       "      <td>4</td>\n",
       "      <td>1</td>\n",
       "      <td>2</td>\n",
       "      <td>2</td>\n",
       "      <td>2</td>\n",
       "      <td>2</td>\n",
       "      <td>3</td>\n",
       "      <td>2</td>\n",
       "      <td>2</td>\n",
       "      <td>0</td>\n",
       "    </tr>\n",
       "    <tr>\n",
       "      <th>167</th>\n",
       "      <td>1</td>\n",
       "      <td>1</td>\n",
       "      <td>0</td>\n",
       "      <td>0</td>\n",
       "      <td>0</td>\n",
       "      <td>0</td>\n",
       "      <td>0</td>\n",
       "      <td>0</td>\n",
       "      <td>0</td>\n",
       "      <td>1</td>\n",
       "      <td>...</td>\n",
       "      <td>3</td>\n",
       "      <td>0</td>\n",
       "      <td>2</td>\n",
       "      <td>0</td>\n",
       "      <td>1</td>\n",
       "      <td>1</td>\n",
       "      <td>3</td>\n",
       "      <td>0</td>\n",
       "      <td>0</td>\n",
       "      <td>0</td>\n",
       "    </tr>\n",
       "    <tr>\n",
       "      <th>168</th>\n",
       "      <td>0</td>\n",
       "      <td>0</td>\n",
       "      <td>0</td>\n",
       "      <td>0</td>\n",
       "      <td>0</td>\n",
       "      <td>0</td>\n",
       "      <td>0</td>\n",
       "      <td>0</td>\n",
       "      <td>0</td>\n",
       "      <td>0</td>\n",
       "      <td>...</td>\n",
       "      <td>3</td>\n",
       "      <td>3</td>\n",
       "      <td>2</td>\n",
       "      <td>2</td>\n",
       "      <td>3</td>\n",
       "      <td>2</td>\n",
       "      <td>4</td>\n",
       "      <td>3</td>\n",
       "      <td>1</td>\n",
       "      <td>0</td>\n",
       "    </tr>\n",
       "    <tr>\n",
       "      <th>169</th>\n",
       "      <td>0</td>\n",
       "      <td>0</td>\n",
       "      <td>0</td>\n",
       "      <td>0</td>\n",
       "      <td>0</td>\n",
       "      <td>0</td>\n",
       "      <td>0</td>\n",
       "      <td>1</td>\n",
       "      <td>0</td>\n",
       "      <td>0</td>\n",
       "      <td>...</td>\n",
       "      <td>3</td>\n",
       "      <td>4</td>\n",
       "      <td>4</td>\n",
       "      <td>0</td>\n",
       "      <td>1</td>\n",
       "      <td>3</td>\n",
       "      <td>3</td>\n",
       "      <td>3</td>\n",
       "      <td>1</td>\n",
       "      <td>0</td>\n",
       "    </tr>\n",
       "  </tbody>\n",
       "</table>\n",
       "<p>170 rows × 55 columns</p>\n",
       "</div>"
      ],
      "text/plain": [
       "     Atr1  Atr2  Atr3  Atr4  Atr5  Atr6  Atr7  Atr8  Atr9  Atr10  ...  Atr46  \\\n",
       "0       2     2     4     1     0     0     0     0     0      0  ...      2   \n",
       "1       4     4     4     4     4     0     0     4     4      4  ...      2   \n",
       "2       2     2     2     2     1     3     2     1     1      2  ...      3   \n",
       "3       3     2     3     2     3     3     3     3     3      3  ...      2   \n",
       "4       2     2     1     1     1     1     0     0     0      0  ...      2   \n",
       "..    ...   ...   ...   ...   ...   ...   ...   ...   ...    ...  ...    ...   \n",
       "165     0     0     0     0     0     0     0     0     0      0  ...      1   \n",
       "166     0     0     0     0     0     0     0     0     0      0  ...      4   \n",
       "167     1     1     0     0     0     0     0     0     0      1  ...      3   \n",
       "168     0     0     0     0     0     0     0     0     0      0  ...      3   \n",
       "169     0     0     0     0     0     0     0     1     0      0  ...      3   \n",
       "\n",
       "     Atr47  Atr48  Atr49  Atr50  Atr51  Atr52  Atr53  Atr54  Class  \n",
       "0        1      3      3      3      2      3      2      1      1  \n",
       "1        2      3      4      4      4      4      2      2      1  \n",
       "2        2      3      1      1      1      2      2      2      1  \n",
       "3        2      3      3      3      3      2      2      2      1  \n",
       "4        1      2      3      2      2      2      1      0      1  \n",
       "..     ...    ...    ...    ...    ...    ...    ...    ...    ...  \n",
       "165      0      4      1      1      4      2      2      2      0  \n",
       "166      1      2      2      2      2      3      2      2      0  \n",
       "167      0      2      0      1      1      3      0      0      0  \n",
       "168      3      2      2      3      2      4      3      1      0  \n",
       "169      4      4      0      1      3      3      3      1      0  \n",
       "\n",
       "[170 rows x 55 columns]"
      ]
     },
     "execution_count": 147,
     "metadata": {},
     "output_type": "execute_result"
    }
   ],
   "source": [
    "df.head(170)"
   ]
  },
  {
   "cell_type": "markdown",
   "metadata": {},
   "source": [
    "Pada dataset ini kami tidak melakukan data cleaning atau pembersihan data dikarenakan dataset yang diperoleh tidak mengandung data yang rusak atau tidak akurat, serta missing value yang dapat mengganggu proses pengolahan data."
   ]
  },
  {
   "cell_type": "markdown",
   "metadata": {},
   "source": [
    "#### Melihat informasi variabel input/independen (x) dan variabel respon/dependen (y)"
   ]
  },
  {
   "cell_type": "code",
   "execution_count": 78,
   "metadata": {},
   "outputs": [],
   "source": [
    "X = df.iloc[:,:-1]"
   ]
  },
  {
   "cell_type": "code",
   "execution_count": 79,
   "metadata": {},
   "outputs": [
    {
     "data": {
      "text/html": [
       "<div>\n",
       "<style scoped>\n",
       "    .dataframe tbody tr th:only-of-type {\n",
       "        vertical-align: middle;\n",
       "    }\n",
       "\n",
       "    .dataframe tbody tr th {\n",
       "        vertical-align: top;\n",
       "    }\n",
       "\n",
       "    .dataframe thead th {\n",
       "        text-align: right;\n",
       "    }\n",
       "</style>\n",
       "<table border=\"1\" class=\"dataframe\">\n",
       "  <thead>\n",
       "    <tr style=\"text-align: right;\">\n",
       "      <th></th>\n",
       "      <th>Atr1</th>\n",
       "      <th>Atr2</th>\n",
       "      <th>Atr3</th>\n",
       "      <th>Atr4</th>\n",
       "      <th>Atr5</th>\n",
       "      <th>Atr6</th>\n",
       "      <th>Atr7</th>\n",
       "      <th>Atr8</th>\n",
       "      <th>Atr9</th>\n",
       "      <th>Atr10</th>\n",
       "      <th>...</th>\n",
       "      <th>Atr45</th>\n",
       "      <th>Atr46</th>\n",
       "      <th>Atr47</th>\n",
       "      <th>Atr48</th>\n",
       "      <th>Atr49</th>\n",
       "      <th>Atr50</th>\n",
       "      <th>Atr51</th>\n",
       "      <th>Atr52</th>\n",
       "      <th>Atr53</th>\n",
       "      <th>Atr54</th>\n",
       "    </tr>\n",
       "  </thead>\n",
       "  <tbody>\n",
       "    <tr>\n",
       "      <th>0</th>\n",
       "      <td>2</td>\n",
       "      <td>2</td>\n",
       "      <td>4</td>\n",
       "      <td>1</td>\n",
       "      <td>0</td>\n",
       "      <td>0</td>\n",
       "      <td>0</td>\n",
       "      <td>0</td>\n",
       "      <td>0</td>\n",
       "      <td>0</td>\n",
       "      <td>...</td>\n",
       "      <td>3</td>\n",
       "      <td>2</td>\n",
       "      <td>1</td>\n",
       "      <td>3</td>\n",
       "      <td>3</td>\n",
       "      <td>3</td>\n",
       "      <td>2</td>\n",
       "      <td>3</td>\n",
       "      <td>2</td>\n",
       "      <td>1</td>\n",
       "    </tr>\n",
       "    <tr>\n",
       "      <th>1</th>\n",
       "      <td>4</td>\n",
       "      <td>4</td>\n",
       "      <td>4</td>\n",
       "      <td>4</td>\n",
       "      <td>4</td>\n",
       "      <td>0</td>\n",
       "      <td>0</td>\n",
       "      <td>4</td>\n",
       "      <td>4</td>\n",
       "      <td>4</td>\n",
       "      <td>...</td>\n",
       "      <td>2</td>\n",
       "      <td>2</td>\n",
       "      <td>2</td>\n",
       "      <td>3</td>\n",
       "      <td>4</td>\n",
       "      <td>4</td>\n",
       "      <td>4</td>\n",
       "      <td>4</td>\n",
       "      <td>2</td>\n",
       "      <td>2</td>\n",
       "    </tr>\n",
       "    <tr>\n",
       "      <th>2</th>\n",
       "      <td>2</td>\n",
       "      <td>2</td>\n",
       "      <td>2</td>\n",
       "      <td>2</td>\n",
       "      <td>1</td>\n",
       "      <td>3</td>\n",
       "      <td>2</td>\n",
       "      <td>1</td>\n",
       "      <td>1</td>\n",
       "      <td>2</td>\n",
       "      <td>...</td>\n",
       "      <td>2</td>\n",
       "      <td>3</td>\n",
       "      <td>2</td>\n",
       "      <td>3</td>\n",
       "      <td>1</td>\n",
       "      <td>1</td>\n",
       "      <td>1</td>\n",
       "      <td>2</td>\n",
       "      <td>2</td>\n",
       "      <td>2</td>\n",
       "    </tr>\n",
       "    <tr>\n",
       "      <th>3</th>\n",
       "      <td>3</td>\n",
       "      <td>2</td>\n",
       "      <td>3</td>\n",
       "      <td>2</td>\n",
       "      <td>3</td>\n",
       "      <td>3</td>\n",
       "      <td>3</td>\n",
       "      <td>3</td>\n",
       "      <td>3</td>\n",
       "      <td>3</td>\n",
       "      <td>...</td>\n",
       "      <td>3</td>\n",
       "      <td>2</td>\n",
       "      <td>2</td>\n",
       "      <td>3</td>\n",
       "      <td>3</td>\n",
       "      <td>3</td>\n",
       "      <td>3</td>\n",
       "      <td>2</td>\n",
       "      <td>2</td>\n",
       "      <td>2</td>\n",
       "    </tr>\n",
       "    <tr>\n",
       "      <th>4</th>\n",
       "      <td>2</td>\n",
       "      <td>2</td>\n",
       "      <td>1</td>\n",
       "      <td>1</td>\n",
       "      <td>1</td>\n",
       "      <td>1</td>\n",
       "      <td>0</td>\n",
       "      <td>0</td>\n",
       "      <td>0</td>\n",
       "      <td>0</td>\n",
       "      <td>...</td>\n",
       "      <td>2</td>\n",
       "      <td>2</td>\n",
       "      <td>1</td>\n",
       "      <td>2</td>\n",
       "      <td>3</td>\n",
       "      <td>2</td>\n",
       "      <td>2</td>\n",
       "      <td>2</td>\n",
       "      <td>1</td>\n",
       "      <td>0</td>\n",
       "    </tr>\n",
       "  </tbody>\n",
       "</table>\n",
       "<p>5 rows × 54 columns</p>\n",
       "</div>"
      ],
      "text/plain": [
       "   Atr1  Atr2  Atr3  Atr4  Atr5  Atr6  Atr7  Atr8  Atr9  Atr10  ...  Atr45  \\\n",
       "0     2     2     4     1     0     0     0     0     0      0  ...      3   \n",
       "1     4     4     4     4     4     0     0     4     4      4  ...      2   \n",
       "2     2     2     2     2     1     3     2     1     1      2  ...      2   \n",
       "3     3     2     3     2     3     3     3     3     3      3  ...      3   \n",
       "4     2     2     1     1     1     1     0     0     0      0  ...      2   \n",
       "\n",
       "   Atr46  Atr47  Atr48  Atr49  Atr50  Atr51  Atr52  Atr53  Atr54  \n",
       "0      2      1      3      3      3      2      3      2      1  \n",
       "1      2      2      3      4      4      4      4      2      2  \n",
       "2      3      2      3      1      1      1      2      2      2  \n",
       "3      2      2      3      3      3      3      2      2      2  \n",
       "4      2      1      2      3      2      2      2      1      0  \n",
       "\n",
       "[5 rows x 54 columns]"
      ]
     },
     "execution_count": 79,
     "metadata": {},
     "output_type": "execute_result"
    }
   ],
   "source": [
    "X.head()"
   ]
  },
  {
   "cell_type": "code",
   "execution_count": 157,
   "metadata": {},
   "outputs": [],
   "source": [
    "Y = df.iloc[:,-1]"
   ]
  },
  {
   "cell_type": "code",
   "execution_count": 158,
   "metadata": {
    "scrolled": true
   },
   "outputs": [
    {
     "data": {
      "text/plain": [
       "0    1\n",
       "1    1\n",
       "2    1\n",
       "3    1\n",
       "4    1\n",
       "Name: Class, dtype: int64"
      ]
     },
     "execution_count": 158,
     "metadata": {},
     "output_type": "execute_result"
    }
   ],
   "source": [
    "Y.head()"
   ]
  },
  {
   "cell_type": "code",
   "execution_count": 155,
   "metadata": {},
   "outputs": [
    {
     "data": {
      "text/plain": [
       "0    86\n",
       "1    84\n",
       "Name: Class, dtype: int64"
      ]
     },
     "execution_count": 155,
     "metadata": {},
     "output_type": "execute_result"
    }
   ],
   "source": [
    "df['Class'].value_counts()"
   ]
  },
  {
   "cell_type": "markdown",
   "metadata": {},
   "source": [
    "#### Kami menggunakan matriks korelasi pearson untuk mengamati seberapa besar suatu atribut mempengaruhi prediksi kita."
   ]
  },
  {
   "cell_type": "code",
   "execution_count": 83,
   "metadata": {},
   "outputs": [
    {
     "data": {
      "text/plain": [
       "<matplotlib.axes._subplots.AxesSubplot at 0x23b2677c320>"
      ]
     },
     "execution_count": 83,
     "metadata": {},
     "output_type": "execute_result"
    },
    {
     "data": {
      "image/png": "[encoded data removed]",
      "text/plain": [
       "<Figure size 1440x1080 with 2 Axes>"
      ]
     },
     "metadata": {},
     "output_type": "display_data"
    }
   ],
   "source": [
    "import seaborn as sns\n",
    "# memuat Auto dataset\n",
    "auto_data = df\n",
    "# menghitung matriks korelasi\n",
    "corr = auto_data.corr()\n",
    "# plot heatmap\n",
    "\n",
    "plt.subplots(figsize=(20,15))\n",
    "sns.heatmap(corr, \n",
    " xticklabels=corr.columns,\n",
    " yticklabels=corr.columns)"
   ]
  },
  {
   "cell_type": "code",
   "execution_count": 138,
   "metadata": {},
   "outputs": [
    {
     "data": {
      "text/html": [
       "<div>\n",
       "<style scoped>\n",
       "    .dataframe tbody tr th:only-of-type {\n",
       "        vertical-align: middle;\n",
       "    }\n",
       "\n",
       "    .dataframe tbody tr th {\n",
       "        vertical-align: top;\n",
       "    }\n",
       "\n",
       "    .dataframe thead th {\n",
       "        text-align: right;\n",
       "    }\n",
       "</style>\n",
       "<table border=\"1\" class=\"dataframe\">\n",
       "  <thead>\n",
       "    <tr style=\"text-align: right;\">\n",
       "      <th></th>\n",
       "      <th>Atr1</th>\n",
       "      <th>Atr2</th>\n",
       "      <th>Atr3</th>\n",
       "      <th>Atr4</th>\n",
       "      <th>Atr5</th>\n",
       "      <th>Atr6</th>\n",
       "      <th>Atr7</th>\n",
       "      <th>Atr8</th>\n",
       "      <th>Atr9</th>\n",
       "      <th>Atr10</th>\n",
       "      <th>...</th>\n",
       "      <th>Atr46</th>\n",
       "      <th>Atr47</th>\n",
       "      <th>Atr48</th>\n",
       "      <th>Atr49</th>\n",
       "      <th>Atr50</th>\n",
       "      <th>Atr51</th>\n",
       "      <th>Atr52</th>\n",
       "      <th>Atr53</th>\n",
       "      <th>Atr54</th>\n",
       "      <th>Class</th>\n",
       "    </tr>\n",
       "  </thead>\n",
       "  <tbody>\n",
       "    <tr>\n",
       "      <th>Atr1</th>\n",
       "      <td>1.000000</td>\n",
       "      <td>0.819066</td>\n",
       "      <td>0.832508</td>\n",
       "      <td>0.825066</td>\n",
       "      <td>0.881272</td>\n",
       "      <td>0.287140</td>\n",
       "      <td>0.427989</td>\n",
       "      <td>0.802357</td>\n",
       "      <td>0.845916</td>\n",
       "      <td>0.790183</td>\n",
       "      <td>...</td>\n",
       "      <td>0.400296</td>\n",
       "      <td>0.582693</td>\n",
       "      <td>0.633564</td>\n",
       "      <td>0.674843</td>\n",
       "      <td>0.725443</td>\n",
       "      <td>0.684143</td>\n",
       "      <td>0.575463</td>\n",
       "      <td>0.611422</td>\n",
       "      <td>0.768522</td>\n",
       "      <td>0.861324</td>\n",
       "    </tr>\n",
       "    <tr>\n",
       "      <th>Atr2</th>\n",
       "      <td>0.819066</td>\n",
       "      <td>1.000000</td>\n",
       "      <td>0.805876</td>\n",
       "      <td>0.791313</td>\n",
       "      <td>0.819360</td>\n",
       "      <td>0.102843</td>\n",
       "      <td>0.417616</td>\n",
       "      <td>0.864284</td>\n",
       "      <td>0.827711</td>\n",
       "      <td>0.782286</td>\n",
       "      <td>...</td>\n",
       "      <td>0.389519</td>\n",
       "      <td>0.616884</td>\n",
       "      <td>0.643762</td>\n",
       "      <td>0.659841</td>\n",
       "      <td>0.680538</td>\n",
       "      <td>0.636558</td>\n",
       "      <td>0.536294</td>\n",
       "      <td>0.610726</td>\n",
       "      <td>0.728897</td>\n",
       "      <td>0.820774</td>\n",
       "    </tr>\n",
       "    <tr>\n",
       "      <th>Atr3</th>\n",
       "      <td>0.832508</td>\n",
       "      <td>0.805876</td>\n",
       "      <td>1.000000</td>\n",
       "      <td>0.806709</td>\n",
       "      <td>0.800774</td>\n",
       "      <td>0.263032</td>\n",
       "      <td>0.464071</td>\n",
       "      <td>0.757264</td>\n",
       "      <td>0.816653</td>\n",
       "      <td>0.753017</td>\n",
       "      <td>...</td>\n",
       "      <td>0.308149</td>\n",
       "      <td>0.544863</td>\n",
       "      <td>0.638256</td>\n",
       "      <td>0.647961</td>\n",
       "      <td>0.663995</td>\n",
       "      <td>0.600603</td>\n",
       "      <td>0.491803</td>\n",
       "      <td>0.598749</td>\n",
       "      <td>0.673012</td>\n",
       "      <td>0.806709</td>\n",
       "    </tr>\n",
       "    <tr>\n",
       "      <th>Atr4</th>\n",
       "      <td>0.825066</td>\n",
       "      <td>0.791313</td>\n",
       "      <td>0.806709</td>\n",
       "      <td>1.000000</td>\n",
       "      <td>0.818472</td>\n",
       "      <td>0.185963</td>\n",
       "      <td>0.474806</td>\n",
       "      <td>0.798347</td>\n",
       "      <td>0.829053</td>\n",
       "      <td>0.873636</td>\n",
       "      <td>...</td>\n",
       "      <td>0.340240</td>\n",
       "      <td>0.552301</td>\n",
       "      <td>0.630205</td>\n",
       "      <td>0.699069</td>\n",
       "      <td>0.685263</td>\n",
       "      <td>0.624015</td>\n",
       "      <td>0.534264</td>\n",
       "      <td>0.588390</td>\n",
       "      <td>0.698264</td>\n",
       "      <td>0.819583</td>\n",
       "    </tr>\n",
       "    <tr>\n",
       "      <th>Atr5</th>\n",
       "      <td>0.881272</td>\n",
       "      <td>0.819360</td>\n",
       "      <td>0.800774</td>\n",
       "      <td>0.818472</td>\n",
       "      <td>1.000000</td>\n",
       "      <td>0.297834</td>\n",
       "      <td>0.381378</td>\n",
       "      <td>0.877584</td>\n",
       "      <td>0.916327</td>\n",
       "      <td>0.823659</td>\n",
       "      <td>...</td>\n",
       "      <td>0.470758</td>\n",
       "      <td>0.719899</td>\n",
       "      <td>0.659220</td>\n",
       "      <td>0.762257</td>\n",
       "      <td>0.795960</td>\n",
       "      <td>0.742664</td>\n",
       "      <td>0.663855</td>\n",
       "      <td>0.719493</td>\n",
       "      <td>0.836799</td>\n",
       "      <td>0.893180</td>\n",
       "    </tr>\n",
       "    <tr>\n",
       "      <th>Atr6</th>\n",
       "      <td>0.287140</td>\n",
       "      <td>0.102843</td>\n",
       "      <td>0.263032</td>\n",
       "      <td>0.185963</td>\n",
       "      <td>0.297834</td>\n",
       "      <td>1.000000</td>\n",
       "      <td>0.424212</td>\n",
       "      <td>0.184019</td>\n",
       "      <td>0.301342</td>\n",
       "      <td>0.266076</td>\n",
       "      <td>...</td>\n",
       "      <td>0.127759</td>\n",
       "      <td>0.212979</td>\n",
       "      <td>0.200673</td>\n",
       "      <td>0.201091</td>\n",
       "      <td>0.221100</td>\n",
       "      <td>0.179119</td>\n",
       "      <td>0.205056</td>\n",
       "      <td>0.258092</td>\n",
       "      <td>0.292428</td>\n",
       "      <td>0.420913</td>\n",
       "    </tr>\n",
       "    <tr>\n",
       "      <th>Atr7</th>\n",
       "      <td>0.427989</td>\n",
       "      <td>0.417616</td>\n",
       "      <td>0.464071</td>\n",
       "      <td>0.474806</td>\n",
       "      <td>0.381378</td>\n",
       "      <td>0.424212</td>\n",
       "      <td>1.000000</td>\n",
       "      <td>0.412807</td>\n",
       "      <td>0.517522</td>\n",
       "      <td>0.498266</td>\n",
       "      <td>...</td>\n",
       "      <td>0.069850</td>\n",
       "      <td>0.254225</td>\n",
       "      <td>0.311110</td>\n",
       "      <td>0.291325</td>\n",
       "      <td>0.332370</td>\n",
       "      <td>0.349920</td>\n",
       "      <td>0.243104</td>\n",
       "      <td>0.313725</td>\n",
       "      <td>0.347493</td>\n",
       "      <td>0.544835</td>\n",
       "    </tr>\n",
       "    <tr>\n",
       "      <th>Atr8</th>\n",
       "      <td>0.802357</td>\n",
       "      <td>0.864284</td>\n",
       "      <td>0.757264</td>\n",
       "      <td>0.798347</td>\n",
       "      <td>0.877584</td>\n",
       "      <td>0.184019</td>\n",
       "      <td>0.412807</td>\n",
       "      <td>1.000000</td>\n",
       "      <td>0.915301</td>\n",
       "      <td>0.828031</td>\n",
       "      <td>...</td>\n",
       "      <td>0.433541</td>\n",
       "      <td>0.675584</td>\n",
       "      <td>0.588531</td>\n",
       "      <td>0.674776</td>\n",
       "      <td>0.729668</td>\n",
       "      <td>0.690190</td>\n",
       "      <td>0.658613</td>\n",
       "      <td>0.705071</td>\n",
       "      <td>0.807911</td>\n",
       "      <td>0.869569</td>\n",
       "    </tr>\n",
       "    <tr>\n",
       "      <th>Atr9</th>\n",
       "      <td>0.845916</td>\n",
       "      <td>0.827711</td>\n",
       "      <td>0.816653</td>\n",
       "      <td>0.829053</td>\n",
       "      <td>0.916327</td>\n",
       "      <td>0.301342</td>\n",
       "      <td>0.517522</td>\n",
       "      <td>0.915301</td>\n",
       "      <td>1.000000</td>\n",
       "      <td>0.852385</td>\n",
       "      <td>...</td>\n",
       "      <td>0.434318</td>\n",
       "      <td>0.693839</td>\n",
       "      <td>0.611726</td>\n",
       "      <td>0.711503</td>\n",
       "      <td>0.755509</td>\n",
       "      <td>0.713750</td>\n",
       "      <td>0.652376</td>\n",
       "      <td>0.699211</td>\n",
       "      <td>0.810977</td>\n",
       "      <td>0.912368</td>\n",
       "    </tr>\n",
       "    <tr>\n",
       "      <th>Atr10</th>\n",
       "      <td>0.790183</td>\n",
       "      <td>0.782286</td>\n",
       "      <td>0.753017</td>\n",
       "      <td>0.873636</td>\n",
       "      <td>0.823659</td>\n",
       "      <td>0.266076</td>\n",
       "      <td>0.498266</td>\n",
       "      <td>0.828031</td>\n",
       "      <td>0.852385</td>\n",
       "      <td>1.000000</td>\n",
       "      <td>...</td>\n",
       "      <td>0.342315</td>\n",
       "      <td>0.559998</td>\n",
       "      <td>0.550313</td>\n",
       "      <td>0.659604</td>\n",
       "      <td>0.672236</td>\n",
       "      <td>0.618666</td>\n",
       "      <td>0.513842</td>\n",
       "      <td>0.592641</td>\n",
       "      <td>0.698528</td>\n",
       "      <td>0.834897</td>\n",
       "    </tr>\n",
       "    <tr>\n",
       "      <th>Atr11</th>\n",
       "      <td>0.892253</td>\n",
       "      <td>0.823380</td>\n",
       "      <td>0.805915</td>\n",
       "      <td>0.808533</td>\n",
       "      <td>0.936955</td>\n",
       "      <td>0.340135</td>\n",
       "      <td>0.432479</td>\n",
       "      <td>0.889795</td>\n",
       "      <td>0.911557</td>\n",
       "      <td>0.855596</td>\n",
       "      <td>...</td>\n",
       "      <td>0.411962</td>\n",
       "      <td>0.645995</td>\n",
       "      <td>0.616833</td>\n",
       "      <td>0.716001</td>\n",
       "      <td>0.766418</td>\n",
       "      <td>0.696282</td>\n",
       "      <td>0.631223</td>\n",
       "      <td>0.703364</td>\n",
       "      <td>0.819972</td>\n",
       "      <td>0.918386</td>\n",
       "    </tr>\n",
       "    <tr>\n",
       "      <th>Atr12</th>\n",
       "      <td>0.794307</td>\n",
       "      <td>0.862835</td>\n",
       "      <td>0.780258</td>\n",
       "      <td>0.793992</td>\n",
       "      <td>0.846513</td>\n",
       "      <td>0.209801</td>\n",
       "      <td>0.511761</td>\n",
       "      <td>0.890338</td>\n",
       "      <td>0.869088</td>\n",
       "      <td>0.847474</td>\n",
       "      <td>...</td>\n",
       "      <td>0.374833</td>\n",
       "      <td>0.632118</td>\n",
       "      <td>0.587084</td>\n",
       "      <td>0.662506</td>\n",
       "      <td>0.700609</td>\n",
       "      <td>0.633361</td>\n",
       "      <td>0.541752</td>\n",
       "      <td>0.613401</td>\n",
       "      <td>0.707153</td>\n",
       "      <td>0.868983</td>\n",
       "    </tr>\n",
       "    <tr>\n",
       "      <th>Atr13</th>\n",
       "      <td>0.842996</td>\n",
       "      <td>0.791073</td>\n",
       "      <td>0.758969</td>\n",
       "      <td>0.751623</td>\n",
       "      <td>0.915033</td>\n",
       "      <td>0.305109</td>\n",
       "      <td>0.373361</td>\n",
       "      <td>0.840350</td>\n",
       "      <td>0.873048</td>\n",
       "      <td>0.819715</td>\n",
       "      <td>...</td>\n",
       "      <td>0.441968</td>\n",
       "      <td>0.654707</td>\n",
       "      <td>0.607921</td>\n",
       "      <td>0.666462</td>\n",
       "      <td>0.746365</td>\n",
       "      <td>0.677543</td>\n",
       "      <td>0.613943</td>\n",
       "      <td>0.682513</td>\n",
       "      <td>0.761607</td>\n",
       "      <td>0.844743</td>\n",
       "    </tr>\n",
       "    <tr>\n",
       "      <th>Atr14</th>\n",
       "      <td>0.817099</td>\n",
       "      <td>0.875800</td>\n",
       "      <td>0.750602</td>\n",
       "      <td>0.757000</td>\n",
       "      <td>0.845576</td>\n",
       "      <td>0.224459</td>\n",
       "      <td>0.491021</td>\n",
       "      <td>0.888822</td>\n",
       "      <td>0.868122</td>\n",
       "      <td>0.797964</td>\n",
       "      <td>...</td>\n",
       "      <td>0.417249</td>\n",
       "      <td>0.622207</td>\n",
       "      <td>0.613143</td>\n",
       "      <td>0.637968</td>\n",
       "      <td>0.687542</td>\n",
       "      <td>0.649200</td>\n",
       "      <td>0.583448</td>\n",
       "      <td>0.642306</td>\n",
       "      <td>0.764686</td>\n",
       "      <td>0.864316</td>\n",
       "    </tr>\n",
       "    <tr>\n",
       "      <th>Atr15</th>\n",
       "      <td>0.848754</td>\n",
       "      <td>0.801316</td>\n",
       "      <td>0.806909</td>\n",
       "      <td>0.794184</td>\n",
       "      <td>0.879461</td>\n",
       "      <td>0.323787</td>\n",
       "      <td>0.494110</td>\n",
       "      <td>0.873804</td>\n",
       "      <td>0.949041</td>\n",
       "      <td>0.853898</td>\n",
       "      <td>...</td>\n",
       "      <td>0.419023</td>\n",
       "      <td>0.652757</td>\n",
       "      <td>0.570107</td>\n",
       "      <td>0.672676</td>\n",
       "      <td>0.713697</td>\n",
       "      <td>0.663087</td>\n",
       "      <td>0.579265</td>\n",
       "      <td>0.632804</td>\n",
       "      <td>0.757981</td>\n",
       "      <td>0.901220</td>\n",
       "    </tr>\n",
       "    <tr>\n",
       "      <th>Atr16</th>\n",
       "      <td>0.831822</td>\n",
       "      <td>0.806497</td>\n",
       "      <td>0.775528</td>\n",
       "      <td>0.878416</td>\n",
       "      <td>0.853561</td>\n",
       "      <td>0.311056</td>\n",
       "      <td>0.573290</td>\n",
       "      <td>0.865680</td>\n",
       "      <td>0.893377</td>\n",
       "      <td>0.922320</td>\n",
       "      <td>...</td>\n",
       "      <td>0.404929</td>\n",
       "      <td>0.619932</td>\n",
       "      <td>0.560172</td>\n",
       "      <td>0.658464</td>\n",
       "      <td>0.711698</td>\n",
       "      <td>0.659871</td>\n",
       "      <td>0.583625</td>\n",
       "      <td>0.623016</td>\n",
       "      <td>0.750224</td>\n",
       "      <td>0.886260</td>\n",
       "    </tr>\n",
       "    <tr>\n",
       "      <th>Atr17</th>\n",
       "      <td>0.895970</td>\n",
       "      <td>0.822317</td>\n",
       "      <td>0.808161</td>\n",
       "      <td>0.809968</td>\n",
       "      <td>0.947429</td>\n",
       "      <td>0.377330</td>\n",
       "      <td>0.461450</td>\n",
       "      <td>0.881005</td>\n",
       "      <td>0.922307</td>\n",
       "      <td>0.843101</td>\n",
       "      <td>...</td>\n",
       "      <td>0.463868</td>\n",
       "      <td>0.692801</td>\n",
       "      <td>0.611383</td>\n",
       "      <td>0.731158</td>\n",
       "      <td>0.754691</td>\n",
       "      <td>0.698285</td>\n",
       "      <td>0.626845</td>\n",
       "      <td>0.694300</td>\n",
       "      <td>0.812494</td>\n",
       "      <td>0.929346</td>\n",
       "    </tr>\n",
       "    <tr>\n",
       "      <th>Atr18</th>\n",
       "      <td>0.853739</td>\n",
       "      <td>0.883856</td>\n",
       "      <td>0.797395</td>\n",
       "      <td>0.835296</td>\n",
       "      <td>0.894474</td>\n",
       "      <td>0.251856</td>\n",
       "      <td>0.544550</td>\n",
       "      <td>0.941084</td>\n",
       "      <td>0.925543</td>\n",
       "      <td>0.867250</td>\n",
       "      <td>...</td>\n",
       "      <td>0.422372</td>\n",
       "      <td>0.645743</td>\n",
       "      <td>0.577324</td>\n",
       "      <td>0.703300</td>\n",
       "      <td>0.726645</td>\n",
       "      <td>0.671822</td>\n",
       "      <td>0.620433</td>\n",
       "      <td>0.666990</td>\n",
       "      <td>0.781632</td>\n",
       "      <td>0.923208</td>\n",
       "    </tr>\n",
       "    <tr>\n",
       "      <th>Atr19</th>\n",
       "      <td>0.900446</td>\n",
       "      <td>0.829422</td>\n",
       "      <td>0.798999</td>\n",
       "      <td>0.832750</td>\n",
       "      <td>0.943349</td>\n",
       "      <td>0.365227</td>\n",
       "      <td>0.469995</td>\n",
       "      <td>0.873546</td>\n",
       "      <td>0.916472</td>\n",
       "      <td>0.837476</td>\n",
       "      <td>...</td>\n",
       "      <td>0.459280</td>\n",
       "      <td>0.687382</td>\n",
       "      <td>0.634737</td>\n",
       "      <td>0.740252</td>\n",
       "      <td>0.752400</td>\n",
       "      <td>0.689729</td>\n",
       "      <td>0.646107</td>\n",
       "      <td>0.691421</td>\n",
       "      <td>0.814552</td>\n",
       "      <td>0.928627</td>\n",
       "    </tr>\n",
       "    <tr>\n",
       "      <th>Atr20</th>\n",
       "      <td>0.840966</td>\n",
       "      <td>0.884176</td>\n",
       "      <td>0.807892</td>\n",
       "      <td>0.815896</td>\n",
       "      <td>0.892909</td>\n",
       "      <td>0.230486</td>\n",
       "      <td>0.544207</td>\n",
       "      <td>0.922465</td>\n",
       "      <td>0.902254</td>\n",
       "      <td>0.846435</td>\n",
       "      <td>...</td>\n",
       "      <td>0.427054</td>\n",
       "      <td>0.666745</td>\n",
       "      <td>0.623265</td>\n",
       "      <td>0.718281</td>\n",
       "      <td>0.746519</td>\n",
       "      <td>0.700391</td>\n",
       "      <td>0.623030</td>\n",
       "      <td>0.688278</td>\n",
       "      <td>0.801546</td>\n",
       "      <td>0.907008</td>\n",
       "    </tr>\n",
       "    <tr>\n",
       "      <th>Atr21</th>\n",
       "      <td>0.815708</td>\n",
       "      <td>0.790468</td>\n",
       "      <td>0.796069</td>\n",
       "      <td>0.775132</td>\n",
       "      <td>0.871994</td>\n",
       "      <td>0.273564</td>\n",
       "      <td>0.409827</td>\n",
       "      <td>0.861939</td>\n",
       "      <td>0.909428</td>\n",
       "      <td>0.793875</td>\n",
       "      <td>...</td>\n",
       "      <td>0.506472</td>\n",
       "      <td>0.714223</td>\n",
       "      <td>0.609352</td>\n",
       "      <td>0.735288</td>\n",
       "      <td>0.753011</td>\n",
       "      <td>0.706653</td>\n",
       "      <td>0.642550</td>\n",
       "      <td>0.711991</td>\n",
       "      <td>0.831327</td>\n",
       "      <td>0.864519</td>\n",
       "    </tr>\n",
       "    <tr>\n",
       "      <th>Atr22</th>\n",
       "      <td>0.785280</td>\n",
       "      <td>0.795406</td>\n",
       "      <td>0.727933</td>\n",
       "      <td>0.839534</td>\n",
       "      <td>0.840265</td>\n",
       "      <td>0.220010</td>\n",
       "      <td>0.378915</td>\n",
       "      <td>0.857010</td>\n",
       "      <td>0.849978</td>\n",
       "      <td>0.862670</td>\n",
       "      <td>...</td>\n",
       "      <td>0.503282</td>\n",
       "      <td>0.689916</td>\n",
       "      <td>0.592974</td>\n",
       "      <td>0.706148</td>\n",
       "      <td>0.736448</td>\n",
       "      <td>0.688090</td>\n",
       "      <td>0.626827</td>\n",
       "      <td>0.700597</td>\n",
       "      <td>0.810719</td>\n",
       "      <td>0.825938</td>\n",
       "    </tr>\n",
       "    <tr>\n",
       "      <th>Atr23</th>\n",
       "      <td>0.822534</td>\n",
       "      <td>0.773018</td>\n",
       "      <td>0.706585</td>\n",
       "      <td>0.744783</td>\n",
       "      <td>0.888584</td>\n",
       "      <td>0.246478</td>\n",
       "      <td>0.254912</td>\n",
       "      <td>0.845731</td>\n",
       "      <td>0.850241</td>\n",
       "      <td>0.750494</td>\n",
       "      <td>...</td>\n",
       "      <td>0.597487</td>\n",
       "      <td>0.768102</td>\n",
       "      <td>0.623255</td>\n",
       "      <td>0.731493</td>\n",
       "      <td>0.754818</td>\n",
       "      <td>0.695089</td>\n",
       "      <td>0.660679</td>\n",
       "      <td>0.721908</td>\n",
       "      <td>0.828007</td>\n",
       "      <td>0.837504</td>\n",
       "    </tr>\n",
       "    <tr>\n",
       "      <th>Atr24</th>\n",
       "      <td>0.813233</td>\n",
       "      <td>0.868240</td>\n",
       "      <td>0.740476</td>\n",
       "      <td>0.776640</td>\n",
       "      <td>0.833608</td>\n",
       "      <td>0.191458</td>\n",
       "      <td>0.446469</td>\n",
       "      <td>0.896841</td>\n",
       "      <td>0.851000</td>\n",
       "      <td>0.796453</td>\n",
       "      <td>...</td>\n",
       "      <td>0.484264</td>\n",
       "      <td>0.692690</td>\n",
       "      <td>0.593157</td>\n",
       "      <td>0.699272</td>\n",
       "      <td>0.710019</td>\n",
       "      <td>0.660250</td>\n",
       "      <td>0.617920</td>\n",
       "      <td>0.689712</td>\n",
       "      <td>0.771216</td>\n",
       "      <td>0.839392</td>\n",
       "    </tr>\n",
       "    <tr>\n",
       "      <th>Atr25</th>\n",
       "      <td>0.822084</td>\n",
       "      <td>0.769244</td>\n",
       "      <td>0.724506</td>\n",
       "      <td>0.736228</td>\n",
       "      <td>0.888740</td>\n",
       "      <td>0.291159</td>\n",
       "      <td>0.288867</td>\n",
       "      <td>0.809110</td>\n",
       "      <td>0.838754</td>\n",
       "      <td>0.792520</td>\n",
       "      <td>...</td>\n",
       "      <td>0.535168</td>\n",
       "      <td>0.670306</td>\n",
       "      <td>0.593997</td>\n",
       "      <td>0.739600</td>\n",
       "      <td>0.768037</td>\n",
       "      <td>0.672088</td>\n",
       "      <td>0.593523</td>\n",
       "      <td>0.663172</td>\n",
       "      <td>0.769315</td>\n",
       "      <td>0.857052</td>\n",
       "    </tr>\n",
       "    <tr>\n",
       "      <th>Atr26</th>\n",
       "      <td>0.803507</td>\n",
       "      <td>0.861421</td>\n",
       "      <td>0.728653</td>\n",
       "      <td>0.762765</td>\n",
       "      <td>0.836194</td>\n",
       "      <td>0.200634</td>\n",
       "      <td>0.443149</td>\n",
       "      <td>0.883414</td>\n",
       "      <td>0.850286</td>\n",
       "      <td>0.802167</td>\n",
       "      <td>...</td>\n",
       "      <td>0.466021</td>\n",
       "      <td>0.659920</td>\n",
       "      <td>0.584190</td>\n",
       "      <td>0.707706</td>\n",
       "      <td>0.708283</td>\n",
       "      <td>0.649172</td>\n",
       "      <td>0.566313</td>\n",
       "      <td>0.628569</td>\n",
       "      <td>0.747339</td>\n",
       "      <td>0.872868</td>\n",
       "    </tr>\n",
       "    <tr>\n",
       "      <th>Atr27</th>\n",
       "      <td>0.829037</td>\n",
       "      <td>0.817364</td>\n",
       "      <td>0.797595</td>\n",
       "      <td>0.767206</td>\n",
       "      <td>0.883768</td>\n",
       "      <td>0.283895</td>\n",
       "      <td>0.444643</td>\n",
       "      <td>0.848766</td>\n",
       "      <td>0.903959</td>\n",
       "      <td>0.796466</td>\n",
       "      <td>...</td>\n",
       "      <td>0.522207</td>\n",
       "      <td>0.702745</td>\n",
       "      <td>0.616280</td>\n",
       "      <td>0.741492</td>\n",
       "      <td>0.756652</td>\n",
       "      <td>0.697969</td>\n",
       "      <td>0.629278</td>\n",
       "      <td>0.675915</td>\n",
       "      <td>0.791929</td>\n",
       "      <td>0.869788</td>\n",
       "    </tr>\n",
       "    <tr>\n",
       "      <th>Atr28</th>\n",
       "      <td>0.762102</td>\n",
       "      <td>0.776943</td>\n",
       "      <td>0.689914</td>\n",
       "      <td>0.827847</td>\n",
       "      <td>0.809789</td>\n",
       "      <td>0.254858</td>\n",
       "      <td>0.351262</td>\n",
       "      <td>0.822361</td>\n",
       "      <td>0.818032</td>\n",
       "      <td>0.848007</td>\n",
       "      <td>...</td>\n",
       "      <td>0.485621</td>\n",
       "      <td>0.645103</td>\n",
       "      <td>0.579382</td>\n",
       "      <td>0.685723</td>\n",
       "      <td>0.701984</td>\n",
       "      <td>0.627694</td>\n",
       "      <td>0.573582</td>\n",
       "      <td>0.659895</td>\n",
       "      <td>0.767266</td>\n",
       "      <td>0.846606</td>\n",
       "    </tr>\n",
       "    <tr>\n",
       "      <th>Atr29</th>\n",
       "      <td>0.858139</td>\n",
       "      <td>0.789827</td>\n",
       "      <td>0.755491</td>\n",
       "      <td>0.781792</td>\n",
       "      <td>0.925601</td>\n",
       "      <td>0.309302</td>\n",
       "      <td>0.349379</td>\n",
       "      <td>0.860194</td>\n",
       "      <td>0.878845</td>\n",
       "      <td>0.790977</td>\n",
       "      <td>...</td>\n",
       "      <td>0.537866</td>\n",
       "      <td>0.738302</td>\n",
       "      <td>0.629746</td>\n",
       "      <td>0.761812</td>\n",
       "      <td>0.766783</td>\n",
       "      <td>0.704671</td>\n",
       "      <td>0.658174</td>\n",
       "      <td>0.722518</td>\n",
       "      <td>0.846811</td>\n",
       "      <td>0.892954</td>\n",
       "    </tr>\n",
       "    <tr>\n",
       "      <th>Atr30</th>\n",
       "      <td>0.792257</td>\n",
       "      <td>0.844007</td>\n",
       "      <td>0.752391</td>\n",
       "      <td>0.772562</td>\n",
       "      <td>0.837501</td>\n",
       "      <td>0.266464</td>\n",
       "      <td>0.448569</td>\n",
       "      <td>0.902820</td>\n",
       "      <td>0.854455</td>\n",
       "      <td>0.801220</td>\n",
       "      <td>...</td>\n",
       "      <td>0.428798</td>\n",
       "      <td>0.635199</td>\n",
       "      <td>0.597375</td>\n",
       "      <td>0.699638</td>\n",
       "      <td>0.719207</td>\n",
       "      <td>0.658454</td>\n",
       "      <td>0.619378</td>\n",
       "      <td>0.686362</td>\n",
       "      <td>0.792509</td>\n",
       "      <td>0.874531</td>\n",
       "    </tr>\n",
       "    <tr>\n",
       "      <th>Atr31</th>\n",
       "      <td>0.699223</td>\n",
       "      <td>0.661210</td>\n",
       "      <td>0.652188</td>\n",
       "      <td>0.661251</td>\n",
       "      <td>0.785038</td>\n",
       "      <td>0.247634</td>\n",
       "      <td>0.334308</td>\n",
       "      <td>0.716731</td>\n",
       "      <td>0.745699</td>\n",
       "      <td>0.704880</td>\n",
       "      <td>...</td>\n",
       "      <td>0.443638</td>\n",
       "      <td>0.634671</td>\n",
       "      <td>0.601569</td>\n",
       "      <td>0.655936</td>\n",
       "      <td>0.687783</td>\n",
       "      <td>0.687045</td>\n",
       "      <td>0.611062</td>\n",
       "      <td>0.679921</td>\n",
       "      <td>0.759989</td>\n",
       "      <td>0.792607</td>\n",
       "    </tr>\n",
       "    <tr>\n",
       "      <th>Atr32</th>\n",
       "      <td>0.739679</td>\n",
       "      <td>0.735763</td>\n",
       "      <td>0.747669</td>\n",
       "      <td>0.746677</td>\n",
       "      <td>0.832032</td>\n",
       "      <td>0.316605</td>\n",
       "      <td>0.442306</td>\n",
       "      <td>0.762425</td>\n",
       "      <td>0.803397</td>\n",
       "      <td>0.759551</td>\n",
       "      <td>...</td>\n",
       "      <td>0.381200</td>\n",
       "      <td>0.623136</td>\n",
       "      <td>0.690888</td>\n",
       "      <td>0.673165</td>\n",
       "      <td>0.691838</td>\n",
       "      <td>0.741075</td>\n",
       "      <td>0.572254</td>\n",
       "      <td>0.730081</td>\n",
       "      <td>0.766907</td>\n",
       "      <td>0.829056</td>\n",
       "    </tr>\n",
       "    <tr>\n",
       "      <th>Atr33</th>\n",
       "      <td>0.799735</td>\n",
       "      <td>0.757286</td>\n",
       "      <td>0.726481</td>\n",
       "      <td>0.764381</td>\n",
       "      <td>0.879037</td>\n",
       "      <td>0.292037</td>\n",
       "      <td>0.395764</td>\n",
       "      <td>0.818682</td>\n",
       "      <td>0.844909</td>\n",
       "      <td>0.755521</td>\n",
       "      <td>...</td>\n",
       "      <td>0.476596</td>\n",
       "      <td>0.687061</td>\n",
       "      <td>0.642480</td>\n",
       "      <td>0.766631</td>\n",
       "      <td>0.776502</td>\n",
       "      <td>0.785674</td>\n",
       "      <td>0.709548</td>\n",
       "      <td>0.768211</td>\n",
       "      <td>0.901159</td>\n",
       "      <td>0.861328</td>\n",
       "    </tr>\n",
       "    <tr>\n",
       "      <th>Atr34</th>\n",
       "      <td>0.749774</td>\n",
       "      <td>0.714360</td>\n",
       "      <td>0.702500</td>\n",
       "      <td>0.729022</td>\n",
       "      <td>0.827560</td>\n",
       "      <td>0.279789</td>\n",
       "      <td>0.328700</td>\n",
       "      <td>0.780778</td>\n",
       "      <td>0.810135</td>\n",
       "      <td>0.737276</td>\n",
       "      <td>...</td>\n",
       "      <td>0.479888</td>\n",
       "      <td>0.625707</td>\n",
       "      <td>0.649640</td>\n",
       "      <td>0.683027</td>\n",
       "      <td>0.713617</td>\n",
       "      <td>0.748990</td>\n",
       "      <td>0.668027</td>\n",
       "      <td>0.757072</td>\n",
       "      <td>0.836086</td>\n",
       "      <td>0.835167</td>\n",
       "    </tr>\n",
       "    <tr>\n",
       "      <th>Atr35</th>\n",
       "      <td>0.796413</td>\n",
       "      <td>0.753566</td>\n",
       "      <td>0.730290</td>\n",
       "      <td>0.770813</td>\n",
       "      <td>0.878289</td>\n",
       "      <td>0.276539</td>\n",
       "      <td>0.349076</td>\n",
       "      <td>0.827441</td>\n",
       "      <td>0.854943</td>\n",
       "      <td>0.755314</td>\n",
       "      <td>...</td>\n",
       "      <td>0.550157</td>\n",
       "      <td>0.726969</td>\n",
       "      <td>0.628374</td>\n",
       "      <td>0.750962</td>\n",
       "      <td>0.781901</td>\n",
       "      <td>0.707727</td>\n",
       "      <td>0.706958</td>\n",
       "      <td>0.775465</td>\n",
       "      <td>0.891120</td>\n",
       "      <td>0.862624</td>\n",
       "    </tr>\n",
       "    <tr>\n",
       "      <th>Atr36</th>\n",
       "      <td>0.812867</td>\n",
       "      <td>0.781295</td>\n",
       "      <td>0.744390</td>\n",
       "      <td>0.794636</td>\n",
       "      <td>0.887498</td>\n",
       "      <td>0.287708</td>\n",
       "      <td>0.370158</td>\n",
       "      <td>0.845435</td>\n",
       "      <td>0.871648</td>\n",
       "      <td>0.781450</td>\n",
       "      <td>...</td>\n",
       "      <td>0.568555</td>\n",
       "      <td>0.715604</td>\n",
       "      <td>0.675947</td>\n",
       "      <td>0.741410</td>\n",
       "      <td>0.772204</td>\n",
       "      <td>0.743875</td>\n",
       "      <td>0.694532</td>\n",
       "      <td>0.787044</td>\n",
       "      <td>0.877572</td>\n",
       "      <td>0.886497</td>\n",
       "    </tr>\n",
       "    <tr>\n",
       "      <th>Atr37</th>\n",
       "      <td>0.786890</td>\n",
       "      <td>0.747088</td>\n",
       "      <td>0.736984</td>\n",
       "      <td>0.760451</td>\n",
       "      <td>0.859581</td>\n",
       "      <td>0.281458</td>\n",
       "      <td>0.431979</td>\n",
       "      <td>0.800964</td>\n",
       "      <td>0.839067</td>\n",
       "      <td>0.779488</td>\n",
       "      <td>...</td>\n",
       "      <td>0.421546</td>\n",
       "      <td>0.614817</td>\n",
       "      <td>0.639337</td>\n",
       "      <td>0.719160</td>\n",
       "      <td>0.754757</td>\n",
       "      <td>0.743814</td>\n",
       "      <td>0.654428</td>\n",
       "      <td>0.736013</td>\n",
       "      <td>0.808107</td>\n",
       "      <td>0.863597</td>\n",
       "    </tr>\n",
       "    <tr>\n",
       "      <th>Atr38</th>\n",
       "      <td>0.804129</td>\n",
       "      <td>0.751705</td>\n",
       "      <td>0.740642</td>\n",
       "      <td>0.790350</td>\n",
       "      <td>0.852601</td>\n",
       "      <td>0.297791</td>\n",
       "      <td>0.401769</td>\n",
       "      <td>0.815830</td>\n",
       "      <td>0.849469</td>\n",
       "      <td>0.796215</td>\n",
       "      <td>...</td>\n",
       "      <td>0.488014</td>\n",
       "      <td>0.626556</td>\n",
       "      <td>0.635144</td>\n",
       "      <td>0.713444</td>\n",
       "      <td>0.738703</td>\n",
       "      <td>0.718405</td>\n",
       "      <td>0.620069</td>\n",
       "      <td>0.713120</td>\n",
       "      <td>0.835082</td>\n",
       "      <td>0.883311</td>\n",
       "    </tr>\n",
       "    <tr>\n",
       "      <th>Atr39</th>\n",
       "      <td>0.817035</td>\n",
       "      <td>0.787768</td>\n",
       "      <td>0.759820</td>\n",
       "      <td>0.763502</td>\n",
       "      <td>0.866293</td>\n",
       "      <td>0.296121</td>\n",
       "      <td>0.477063</td>\n",
       "      <td>0.797134</td>\n",
       "      <td>0.850638</td>\n",
       "      <td>0.782768</td>\n",
       "      <td>...</td>\n",
       "      <td>0.423210</td>\n",
       "      <td>0.652620</td>\n",
       "      <td>0.641082</td>\n",
       "      <td>0.738208</td>\n",
       "      <td>0.763041</td>\n",
       "      <td>0.690443</td>\n",
       "      <td>0.650786</td>\n",
       "      <td>0.688828</td>\n",
       "      <td>0.812679</td>\n",
       "      <td>0.896180</td>\n",
       "    </tr>\n",
       "    <tr>\n",
       "      <th>Atr40</th>\n",
       "      <td>0.838355</td>\n",
       "      <td>0.788200</td>\n",
       "      <td>0.781657</td>\n",
       "      <td>0.798520</td>\n",
       "      <td>0.871809</td>\n",
       "      <td>0.351433</td>\n",
       "      <td>0.501758</td>\n",
       "      <td>0.822302</td>\n",
       "      <td>0.875661</td>\n",
       "      <td>0.819700</td>\n",
       "      <td>...</td>\n",
       "      <td>0.485531</td>\n",
       "      <td>0.626907</td>\n",
       "      <td>0.655541</td>\n",
       "      <td>0.717965</td>\n",
       "      <td>0.756052</td>\n",
       "      <td>0.712333</td>\n",
       "      <td>0.630086</td>\n",
       "      <td>0.716196</td>\n",
       "      <td>0.796685</td>\n",
       "      <td>0.938684</td>\n",
       "    </tr>\n",
       "    <tr>\n",
       "      <th>Atr41</th>\n",
       "      <td>0.804182</td>\n",
       "      <td>0.780757</td>\n",
       "      <td>0.739967</td>\n",
       "      <td>0.768706</td>\n",
       "      <td>0.864434</td>\n",
       "      <td>0.329765</td>\n",
       "      <td>0.445483</td>\n",
       "      <td>0.821081</td>\n",
       "      <td>0.852477</td>\n",
       "      <td>0.777444</td>\n",
       "      <td>...</td>\n",
       "      <td>0.449828</td>\n",
       "      <td>0.689292</td>\n",
       "      <td>0.624703</td>\n",
       "      <td>0.712495</td>\n",
       "      <td>0.729924</td>\n",
       "      <td>0.666691</td>\n",
       "      <td>0.636622</td>\n",
       "      <td>0.717272</td>\n",
       "      <td>0.849093</td>\n",
       "      <td>0.894356</td>\n",
       "    </tr>\n",
       "    <tr>\n",
       "      <th>Atr42</th>\n",
       "      <td>0.642307</td>\n",
       "      <td>0.648539</td>\n",
       "      <td>0.569293</td>\n",
       "      <td>0.639671</td>\n",
       "      <td>0.737922</td>\n",
       "      <td>0.227993</td>\n",
       "      <td>0.333211</td>\n",
       "      <td>0.699571</td>\n",
       "      <td>0.737409</td>\n",
       "      <td>0.670209</td>\n",
       "      <td>...</td>\n",
       "      <td>0.548272</td>\n",
       "      <td>0.717083</td>\n",
       "      <td>0.618045</td>\n",
       "      <td>0.618445</td>\n",
       "      <td>0.616437</td>\n",
       "      <td>0.614892</td>\n",
       "      <td>0.580543</td>\n",
       "      <td>0.562994</td>\n",
       "      <td>0.673308</td>\n",
       "      <td>0.739629</td>\n",
       "    </tr>\n",
       "    <tr>\n",
       "      <th>Atr43</th>\n",
       "      <td>0.482223</td>\n",
       "      <td>0.503894</td>\n",
       "      <td>0.385152</td>\n",
       "      <td>0.452479</td>\n",
       "      <td>0.613142</td>\n",
       "      <td>0.171599</td>\n",
       "      <td>0.149930</td>\n",
       "      <td>0.555187</td>\n",
       "      <td>0.585679</td>\n",
       "      <td>0.459405</td>\n",
       "      <td>...</td>\n",
       "      <td>0.561868</td>\n",
       "      <td>0.695560</td>\n",
       "      <td>0.409197</td>\n",
       "      <td>0.546105</td>\n",
       "      <td>0.523015</td>\n",
       "      <td>0.459008</td>\n",
       "      <td>0.513790</td>\n",
       "      <td>0.387796</td>\n",
       "      <td>0.543614</td>\n",
       "      <td>0.566242</td>\n",
       "    </tr>\n",
       "    <tr>\n",
       "      <th>Atr44</th>\n",
       "      <td>0.752972</td>\n",
       "      <td>0.699765</td>\n",
       "      <td>0.661830</td>\n",
       "      <td>0.707212</td>\n",
       "      <td>0.799453</td>\n",
       "      <td>0.339918</td>\n",
       "      <td>0.425874</td>\n",
       "      <td>0.760016</td>\n",
       "      <td>0.808607</td>\n",
       "      <td>0.723545</td>\n",
       "      <td>...</td>\n",
       "      <td>0.572467</td>\n",
       "      <td>0.690103</td>\n",
       "      <td>0.594348</td>\n",
       "      <td>0.724733</td>\n",
       "      <td>0.708330</td>\n",
       "      <td>0.676761</td>\n",
       "      <td>0.585740</td>\n",
       "      <td>0.626303</td>\n",
       "      <td>0.741815</td>\n",
       "      <td>0.847336</td>\n",
       "    </tr>\n",
       "    <tr>\n",
       "      <th>Atr45</th>\n",
       "      <td>0.510160</td>\n",
       "      <td>0.489062</td>\n",
       "      <td>0.427409</td>\n",
       "      <td>0.446798</td>\n",
       "      <td>0.591656</td>\n",
       "      <td>0.094820</td>\n",
       "      <td>0.199548</td>\n",
       "      <td>0.542547</td>\n",
       "      <td>0.575326</td>\n",
       "      <td>0.435798</td>\n",
       "      <td>...</td>\n",
       "      <td>0.592041</td>\n",
       "      <td>0.720692</td>\n",
       "      <td>0.413413</td>\n",
       "      <td>0.530254</td>\n",
       "      <td>0.540485</td>\n",
       "      <td>0.487817</td>\n",
       "      <td>0.495944</td>\n",
       "      <td>0.422336</td>\n",
       "      <td>0.586874</td>\n",
       "      <td>0.546450</td>\n",
       "    </tr>\n",
       "    <tr>\n",
       "      <th>Atr46</th>\n",
       "      <td>0.400296</td>\n",
       "      <td>0.389519</td>\n",
       "      <td>0.308149</td>\n",
       "      <td>0.340240</td>\n",
       "      <td>0.470758</td>\n",
       "      <td>0.127759</td>\n",
       "      <td>0.069850</td>\n",
       "      <td>0.433541</td>\n",
       "      <td>0.434318</td>\n",
       "      <td>0.342315</td>\n",
       "      <td>...</td>\n",
       "      <td>1.000000</td>\n",
       "      <td>0.664794</td>\n",
       "      <td>0.448773</td>\n",
       "      <td>0.530939</td>\n",
       "      <td>0.523832</td>\n",
       "      <td>0.490177</td>\n",
       "      <td>0.550210</td>\n",
       "      <td>0.505164</td>\n",
       "      <td>0.483424</td>\n",
       "      <td>0.443465</td>\n",
       "    </tr>\n",
       "    <tr>\n",
       "      <th>Atr47</th>\n",
       "      <td>0.582693</td>\n",
       "      <td>0.616884</td>\n",
       "      <td>0.544863</td>\n",
       "      <td>0.552301</td>\n",
       "      <td>0.719899</td>\n",
       "      <td>0.212979</td>\n",
       "      <td>0.254225</td>\n",
       "      <td>0.675584</td>\n",
       "      <td>0.693839</td>\n",
       "      <td>0.559998</td>\n",
       "      <td>...</td>\n",
       "      <td>0.664794</td>\n",
       "      <td>1.000000</td>\n",
       "      <td>0.602951</td>\n",
       "      <td>0.649803</td>\n",
       "      <td>0.658809</td>\n",
       "      <td>0.600896</td>\n",
       "      <td>0.571223</td>\n",
       "      <td>0.623877</td>\n",
       "      <td>0.689735</td>\n",
       "      <td>0.656409</td>\n",
       "    </tr>\n",
       "    <tr>\n",
       "      <th>Atr48</th>\n",
       "      <td>0.633564</td>\n",
       "      <td>0.643762</td>\n",
       "      <td>0.638256</td>\n",
       "      <td>0.630205</td>\n",
       "      <td>0.659220</td>\n",
       "      <td>0.200673</td>\n",
       "      <td>0.311110</td>\n",
       "      <td>0.588531</td>\n",
       "      <td>0.611726</td>\n",
       "      <td>0.550313</td>\n",
       "      <td>...</td>\n",
       "      <td>0.448773</td>\n",
       "      <td>0.602951</td>\n",
       "      <td>1.000000</td>\n",
       "      <td>0.594826</td>\n",
       "      <td>0.640171</td>\n",
       "      <td>0.697531</td>\n",
       "      <td>0.513645</td>\n",
       "      <td>0.637911</td>\n",
       "      <td>0.588135</td>\n",
       "      <td>0.619830</td>\n",
       "    </tr>\n",
       "    <tr>\n",
       "      <th>Atr49</th>\n",
       "      <td>0.674843</td>\n",
       "      <td>0.659841</td>\n",
       "      <td>0.647961</td>\n",
       "      <td>0.699069</td>\n",
       "      <td>0.762257</td>\n",
       "      <td>0.201091</td>\n",
       "      <td>0.291325</td>\n",
       "      <td>0.674776</td>\n",
       "      <td>0.711503</td>\n",
       "      <td>0.659604</td>\n",
       "      <td>...</td>\n",
       "      <td>0.530939</td>\n",
       "      <td>0.649803</td>\n",
       "      <td>0.594826</td>\n",
       "      <td>1.000000</td>\n",
       "      <td>0.863896</td>\n",
       "      <td>0.730045</td>\n",
       "      <td>0.560331</td>\n",
       "      <td>0.541626</td>\n",
       "      <td>0.685991</td>\n",
       "      <td>0.740704</td>\n",
       "    </tr>\n",
       "    <tr>\n",
       "      <th>Atr50</th>\n",
       "      <td>0.725443</td>\n",
       "      <td>0.680538</td>\n",
       "      <td>0.663995</td>\n",
       "      <td>0.685263</td>\n",
       "      <td>0.795960</td>\n",
       "      <td>0.221100</td>\n",
       "      <td>0.332370</td>\n",
       "      <td>0.729668</td>\n",
       "      <td>0.755509</td>\n",
       "      <td>0.672236</td>\n",
       "      <td>...</td>\n",
       "      <td>0.523832</td>\n",
       "      <td>0.658809</td>\n",
       "      <td>0.640171</td>\n",
       "      <td>0.863896</td>\n",
       "      <td>1.000000</td>\n",
       "      <td>0.852839</td>\n",
       "      <td>0.622362</td>\n",
       "      <td>0.613642</td>\n",
       "      <td>0.747848</td>\n",
       "      <td>0.755248</td>\n",
       "    </tr>\n",
       "    <tr>\n",
       "      <th>Atr51</th>\n",
       "      <td>0.684143</td>\n",
       "      <td>0.636558</td>\n",
       "      <td>0.600603</td>\n",
       "      <td>0.624015</td>\n",
       "      <td>0.742664</td>\n",
       "      <td>0.179119</td>\n",
       "      <td>0.349920</td>\n",
       "      <td>0.690190</td>\n",
       "      <td>0.713750</td>\n",
       "      <td>0.618666</td>\n",
       "      <td>...</td>\n",
       "      <td>0.490177</td>\n",
       "      <td>0.600896</td>\n",
       "      <td>0.697531</td>\n",
       "      <td>0.730045</td>\n",
       "      <td>0.852839</td>\n",
       "      <td>1.000000</td>\n",
       "      <td>0.610769</td>\n",
       "      <td>0.650090</td>\n",
       "      <td>0.737811</td>\n",
       "      <td>0.692681</td>\n",
       "    </tr>\n",
       "    <tr>\n",
       "      <th>Atr52</th>\n",
       "      <td>0.575463</td>\n",
       "      <td>0.536294</td>\n",
       "      <td>0.491803</td>\n",
       "      <td>0.534264</td>\n",
       "      <td>0.663855</td>\n",
       "      <td>0.205056</td>\n",
       "      <td>0.243104</td>\n",
       "      <td>0.658613</td>\n",
       "      <td>0.652376</td>\n",
       "      <td>0.513842</td>\n",
       "      <td>...</td>\n",
       "      <td>0.550210</td>\n",
       "      <td>0.571223</td>\n",
       "      <td>0.513645</td>\n",
       "      <td>0.560331</td>\n",
       "      <td>0.622362</td>\n",
       "      <td>0.610769</td>\n",
       "      <td>1.000000</td>\n",
       "      <td>0.803221</td>\n",
       "      <td>0.771315</td>\n",
       "      <td>0.651478</td>\n",
       "    </tr>\n",
       "    <tr>\n",
       "      <th>Atr53</th>\n",
       "      <td>0.611422</td>\n",
       "      <td>0.610726</td>\n",
       "      <td>0.598749</td>\n",
       "      <td>0.588390</td>\n",
       "      <td>0.719493</td>\n",
       "      <td>0.258092</td>\n",
       "      <td>0.313725</td>\n",
       "      <td>0.705071</td>\n",
       "      <td>0.699211</td>\n",
       "      <td>0.592641</td>\n",
       "      <td>...</td>\n",
       "      <td>0.505164</td>\n",
       "      <td>0.623877</td>\n",
       "      <td>0.637911</td>\n",
       "      <td>0.541626</td>\n",
       "      <td>0.613642</td>\n",
       "      <td>0.650090</td>\n",
       "      <td>0.803221</td>\n",
       "      <td>1.000000</td>\n",
       "      <td>0.788348</td>\n",
       "      <td>0.711176</td>\n",
       "    </tr>\n",
       "    <tr>\n",
       "      <th>Atr54</th>\n",
       "      <td>0.768522</td>\n",
       "      <td>0.728897</td>\n",
       "      <td>0.673012</td>\n",
       "      <td>0.698264</td>\n",
       "      <td>0.836799</td>\n",
       "      <td>0.292428</td>\n",
       "      <td>0.347493</td>\n",
       "      <td>0.807911</td>\n",
       "      <td>0.810977</td>\n",
       "      <td>0.698528</td>\n",
       "      <td>...</td>\n",
       "      <td>0.483424</td>\n",
       "      <td>0.689735</td>\n",
       "      <td>0.588135</td>\n",
       "      <td>0.685991</td>\n",
       "      <td>0.747848</td>\n",
       "      <td>0.737811</td>\n",
       "      <td>0.771315</td>\n",
       "      <td>0.788348</td>\n",
       "      <td>1.000000</td>\n",
       "      <td>0.806765</td>\n",
       "    </tr>\n",
       "    <tr>\n",
       "      <th>Class</th>\n",
       "      <td>0.861324</td>\n",
       "      <td>0.820774</td>\n",
       "      <td>0.806709</td>\n",
       "      <td>0.819583</td>\n",
       "      <td>0.893180</td>\n",
       "      <td>0.420913</td>\n",
       "      <td>0.544835</td>\n",
       "      <td>0.869569</td>\n",
       "      <td>0.912368</td>\n",
       "      <td>0.834897</td>\n",
       "      <td>...</td>\n",
       "      <td>0.443465</td>\n",
       "      <td>0.656409</td>\n",
       "      <td>0.619830</td>\n",
       "      <td>0.740704</td>\n",
       "      <td>0.755248</td>\n",
       "      <td>0.692681</td>\n",
       "      <td>0.651478</td>\n",
       "      <td>0.711176</td>\n",
       "      <td>0.806765</td>\n",
       "      <td>1.000000</td>\n",
       "    </tr>\n",
       "  </tbody>\n",
       "</table>\n",
       "<p>55 rows × 55 columns</p>\n",
       "</div>"
      ],
      "text/plain": [
       "           Atr1      Atr2      Atr3      Atr4      Atr5      Atr6      Atr7  \\\n",
       "Atr1   1.000000  0.819066  0.832508  0.825066  0.881272  0.287140  0.427989   \n",
       "Atr2   0.819066  1.000000  0.805876  0.791313  0.819360  0.102843  0.417616   \n",
       "Atr3   0.832508  0.805876  1.000000  0.806709  0.800774  0.263032  0.464071   \n",
       "Atr4   0.825066  0.791313  0.806709  1.000000  0.818472  0.185963  0.474806   \n",
       "Atr5   0.881272  0.819360  0.800774  0.818472  1.000000  0.297834  0.381378   \n",
       "Atr6   0.287140  0.102843  0.263032  0.185963  0.297834  1.000000  0.424212   \n",
       "Atr7   0.427989  0.417616  0.464071  0.474806  0.381378  0.424212  1.000000   \n",
       "Atr8   0.802357  0.864284  0.757264  0.798347  0.877584  0.184019  0.412807   \n",
       "Atr9   0.845916  0.827711  0.816653  0.829053  0.916327  0.301342  0.517522   \n",
       "Atr10  0.790183  0.782286  0.753017  0.873636  0.823659  0.266076  0.498266   \n",
       "Atr11  0.892253  0.823380  0.805915  0.808533  0.936955  0.340135  0.432479   \n",
       "Atr12  0.794307  0.862835  0.780258  0.793992  0.846513  0.209801  0.511761   \n",
       "Atr13  0.842996  0.791073  0.758969  0.751623  0.915033  0.305109  0.373361   \n",
       "Atr14  0.817099  0.875800  0.750602  0.757000  0.845576  0.224459  0.491021   \n",
       "Atr15  0.848754  0.801316  0.806909  0.794184  0.879461  0.323787  0.494110   \n",
       "Atr16  0.831822  0.806497  0.775528  0.878416  0.853561  0.311056  0.573290   \n",
       "Atr17  0.895970  0.822317  0.808161  0.809968  0.947429  0.377330  0.461450   \n",
       "Atr18  0.853739  0.883856  0.797395  0.835296  0.894474  0.251856  0.544550   \n",
       "Atr19  0.900446  0.829422  0.798999  0.832750  0.943349  0.365227  0.469995   \n",
       "Atr20  0.840966  0.884176  0.807892  0.815896  0.892909  0.230486  0.544207   \n",
       "Atr21  0.815708  0.790468  0.796069  0.775132  0.871994  0.273564  0.409827   \n",
       "Atr22  0.785280  0.795406  0.727933  0.839534  0.840265  0.220010  0.378915   \n",
       "Atr23  0.822534  0.773018  0.706585  0.744783  0.888584  0.246478  0.254912   \n",
       "Atr24  0.813233  0.868240  0.740476  0.776640  0.833608  0.191458  0.446469   \n",
       "Atr25  0.822084  0.769244  0.724506  0.736228  0.888740  0.291159  0.288867   \n",
       "Atr26  0.803507  0.861421  0.728653  0.762765  0.836194  0.200634  0.443149   \n",
       "Atr27  0.829037  0.817364  0.797595  0.767206  0.883768  0.283895  0.444643   \n",
       "Atr28  0.762102  0.776943  0.689914  0.827847  0.809789  0.254858  0.351262   \n",
       "Atr29  0.858139  0.789827  0.755491  0.781792  0.925601  0.309302  0.349379   \n",
       "Atr30  0.792257  0.844007  0.752391  0.772562  0.837501  0.266464  0.448569   \n",
       "Atr31  0.699223  0.661210  0.652188  0.661251  0.785038  0.247634  0.334308   \n",
       "Atr32  0.739679  0.735763  0.747669  0.746677  0.832032  0.316605  0.442306   \n",
       "Atr33  0.799735  0.757286  0.726481  0.764381  0.879037  0.292037  0.395764   \n",
       "Atr34  0.749774  0.714360  0.702500  0.729022  0.827560  0.279789  0.328700   \n",
       "Atr35  0.796413  0.753566  0.730290  0.770813  0.878289  0.276539  0.349076   \n",
       "Atr36  0.812867  0.781295  0.744390  0.794636  0.887498  0.287708  0.370158   \n",
       "Atr37  0.786890  0.747088  0.736984  0.760451  0.859581  0.281458  0.431979   \n",
       "Atr38  0.804129  0.751705  0.740642  0.790350  0.852601  0.297791  0.401769   \n",
       "Atr39  0.817035  0.787768  0.759820  0.763502  0.866293  0.296121  0.477063   \n",
       "Atr40  0.838355  0.788200  0.781657  0.798520  0.871809  0.351433  0.501758   \n",
       "Atr41  0.804182  0.780757  0.739967  0.768706  0.864434  0.329765  0.445483   \n",
       "Atr42  0.642307  0.648539  0.569293  0.639671  0.737922  0.227993  0.333211   \n",
       "Atr43  0.482223  0.503894  0.385152  0.452479  0.613142  0.171599  0.149930   \n",
       "Atr44  0.752972  0.699765  0.661830  0.707212  0.799453  0.339918  0.425874   \n",
       "Atr45  0.510160  0.489062  0.427409  0.446798  0.591656  0.094820  0.199548   \n",
       "Atr46  0.400296  0.389519  0.308149  0.340240  0.470758  0.127759  0.069850   \n",
       "Atr47  0.582693  0.616884  0.544863  0.552301  0.719899  0.212979  0.254225   \n",
       "Atr48  0.633564  0.643762  0.638256  0.630205  0.659220  0.200673  0.311110   \n",
       "Atr49  0.674843  0.659841  0.647961  0.699069  0.762257  0.201091  0.291325   \n",
       "Atr50  0.725443  0.680538  0.663995  0.685263  0.795960  0.221100  0.332370   \n",
       "Atr51  0.684143  0.636558  0.600603  0.624015  0.742664  0.179119  0.349920   \n",
       "Atr52  0.575463  0.536294  0.491803  0.534264  0.663855  0.205056  0.243104   \n",
       "Atr53  0.611422  0.610726  0.598749  0.588390  0.719493  0.258092  0.313725   \n",
       "Atr54  0.768522  0.728897  0.673012  0.698264  0.836799  0.292428  0.347493   \n",
       "Class  0.861324  0.820774  0.806709  0.819583  0.893180  0.420913  0.544835   \n",
       "\n",
       "           Atr8      Atr9     Atr10  ...     Atr46     Atr47     Atr48  \\\n",
       "Atr1   0.802357  0.845916  0.790183  ...  0.400296  0.582693  0.633564   \n",
       "Atr2   0.864284  0.827711  0.782286  ...  0.389519  0.616884  0.643762   \n",
       "Atr3   0.757264  0.816653  0.753017  ...  0.308149  0.544863  0.638256   \n",
       "Atr4   0.798347  0.829053  0.873636  ...  0.340240  0.552301  0.630205   \n",
       "Atr5   0.877584  0.916327  0.823659  ...  0.470758  0.719899  0.659220   \n",
       "Atr6   0.184019  0.301342  0.266076  ...  0.127759  0.212979  0.200673   \n",
       "Atr7   0.412807  0.517522  0.498266  ...  0.069850  0.254225  0.311110   \n",
       "Atr8   1.000000  0.915301  0.828031  ...  0.433541  0.675584  0.588531   \n",
       "Atr9   0.915301  1.000000  0.852385  ...  0.434318  0.693839  0.611726   \n",
       "Atr10  0.828031  0.852385  1.000000  ...  0.342315  0.559998  0.550313   \n",
       "Atr11  0.889795  0.911557  0.855596  ...  0.411962  0.645995  0.616833   \n",
       "Atr12  0.890338  0.869088  0.847474  ...  0.374833  0.632118  0.587084   \n",
       "Atr13  0.840350  0.873048  0.819715  ...  0.441968  0.654707  0.607921   \n",
       "Atr14  0.888822  0.868122  0.797964  ...  0.417249  0.622207  0.613143   \n",
       "Atr15  0.873804  0.949041  0.853898  ...  0.419023  0.652757  0.570107   \n",
       "Atr16  0.865680  0.893377  0.922320  ...  0.404929  0.619932  0.560172   \n",
       "Atr17  0.881005  0.922307  0.843101  ...  0.463868  0.692801  0.611383   \n",
       "Atr18  0.941084  0.925543  0.867250  ...  0.422372  0.645743  0.577324   \n",
       "Atr19  0.873546  0.916472  0.837476  ...  0.459280  0.687382  0.634737   \n",
       "Atr20  0.922465  0.902254  0.846435  ...  0.427054  0.666745  0.623265   \n",
       "Atr21  0.861939  0.909428  0.793875  ...  0.506472  0.714223  0.609352   \n",
       "Atr22  0.857010  0.849978  0.862670  ...  0.503282  0.689916  0.592974   \n",
       "Atr23  0.845731  0.850241  0.750494  ...  0.597487  0.768102  0.623255   \n",
       "Atr24  0.896841  0.851000  0.796453  ...  0.484264  0.692690  0.593157   \n",
       "Atr25  0.809110  0.838754  0.792520  ...  0.535168  0.670306  0.593997   \n",
       "Atr26  0.883414  0.850286  0.802167  ...  0.466021  0.659920  0.584190   \n",
       "Atr27  0.848766  0.903959  0.796466  ...  0.522207  0.702745  0.616280   \n",
       "Atr28  0.822361  0.818032  0.848007  ...  0.485621  0.645103  0.579382   \n",
       "Atr29  0.860194  0.878845  0.790977  ...  0.537866  0.738302  0.629746   \n",
       "Atr30  0.902820  0.854455  0.801220  ...  0.428798  0.635199  0.597375   \n",
       "Atr31  0.716731  0.745699  0.704880  ...  0.443638  0.634671  0.601569   \n",
       "Atr32  0.762425  0.803397  0.759551  ...  0.381200  0.623136  0.690888   \n",
       "Atr33  0.818682  0.844909  0.755521  ...  0.476596  0.687061  0.642480   \n",
       "Atr34  0.780778  0.810135  0.737276  ...  0.479888  0.625707  0.649640   \n",
       "Atr35  0.827441  0.854943  0.755314  ...  0.550157  0.726969  0.628374   \n",
       "Atr36  0.845435  0.871648  0.781450  ...  0.568555  0.715604  0.675947   \n",
       "Atr37  0.800964  0.839067  0.779488  ...  0.421546  0.614817  0.639337   \n",
       "Atr38  0.815830  0.849469  0.796215  ...  0.488014  0.626556  0.635144   \n",
       "Atr39  0.797134  0.850638  0.782768  ...  0.423210  0.652620  0.641082   \n",
       "Atr40  0.822302  0.875661  0.819700  ...  0.485531  0.626907  0.655541   \n",
       "Atr41  0.821081  0.852477  0.777444  ...  0.449828  0.689292  0.624703   \n",
       "Atr42  0.699571  0.737409  0.670209  ...  0.548272  0.717083  0.618045   \n",
       "Atr43  0.555187  0.585679  0.459405  ...  0.561868  0.695560  0.409197   \n",
       "Atr44  0.760016  0.808607  0.723545  ...  0.572467  0.690103  0.594348   \n",
       "Atr45  0.542547  0.575326  0.435798  ...  0.592041  0.720692  0.413413   \n",
       "Atr46  0.433541  0.434318  0.342315  ...  1.000000  0.664794  0.448773   \n",
       "Atr47  0.675584  0.693839  0.559998  ...  0.664794  1.000000  0.602951   \n",
       "Atr48  0.588531  0.611726  0.550313  ...  0.448773  0.602951  1.000000   \n",
       "Atr49  0.674776  0.711503  0.659604  ...  0.530939  0.649803  0.594826   \n",
       "Atr50  0.729668  0.755509  0.672236  ...  0.523832  0.658809  0.640171   \n",
       "Atr51  0.690190  0.713750  0.618666  ...  0.490177  0.600896  0.697531   \n",
       "Atr52  0.658613  0.652376  0.513842  ...  0.550210  0.571223  0.513645   \n",
       "Atr53  0.705071  0.699211  0.592641  ...  0.505164  0.623877  0.637911   \n",
       "Atr54  0.807911  0.810977  0.698528  ...  0.483424  0.689735  0.588135   \n",
       "Class  0.869569  0.912368  0.834897  ...  0.443465  0.656409  0.619830   \n",
       "\n",
       "          Atr49     Atr50     Atr51     Atr52     Atr53     Atr54     Class  \n",
       "Atr1   0.674843  0.725443  0.684143  0.575463  0.611422  0.768522  0.861324  \n",
       "Atr2   0.659841  0.680538  0.636558  0.536294  0.610726  0.728897  0.820774  \n",
       "Atr3   0.647961  0.663995  0.600603  0.491803  0.598749  0.673012  0.806709  \n",
       "Atr4   0.699069  0.685263  0.624015  0.534264  0.588390  0.698264  0.819583  \n",
       "Atr5   0.762257  0.795960  0.742664  0.663855  0.719493  0.836799  0.893180  \n",
       "Atr6   0.201091  0.221100  0.179119  0.205056  0.258092  0.292428  0.420913  \n",
       "Atr7   0.291325  0.332370  0.349920  0.243104  0.313725  0.347493  0.544835  \n",
       "Atr8   0.674776  0.729668  0.690190  0.658613  0.705071  0.807911  0.869569  \n",
       "Atr9   0.711503  0.755509  0.713750  0.652376  0.699211  0.810977  0.912368  \n",
       "Atr10  0.659604  0.672236  0.618666  0.513842  0.592641  0.698528  0.834897  \n",
       "Atr11  0.716001  0.766418  0.696282  0.631223  0.703364  0.819972  0.918386  \n",
       "Atr12  0.662506  0.700609  0.633361  0.541752  0.613401  0.707153  0.868983  \n",
       "Atr13  0.666462  0.746365  0.677543  0.613943  0.682513  0.761607  0.844743  \n",
       "Atr14  0.637968  0.687542  0.649200  0.583448  0.642306  0.764686  0.864316  \n",
       "Atr15  0.672676  0.713697  0.663087  0.579265  0.632804  0.757981  0.901220  \n",
       "Atr16  0.658464  0.711698  0.659871  0.583625  0.623016  0.750224  0.886260  \n",
       "Atr17  0.731158  0.754691  0.698285  0.626845  0.694300  0.812494  0.929346  \n",
       "Atr18  0.703300  0.726645  0.671822  0.620433  0.666990  0.781632  0.923208  \n",
       "Atr19  0.740252  0.752400  0.689729  0.646107  0.691421  0.814552  0.928627  \n",
       "Atr20  0.718281  0.746519  0.700391  0.623030  0.688278  0.801546  0.907008  \n",
       "Atr21  0.735288  0.753011  0.706653  0.642550  0.711991  0.831327  0.864519  \n",
       "Atr22  0.706148  0.736448  0.688090  0.626827  0.700597  0.810719  0.825938  \n",
       "Atr23  0.731493  0.754818  0.695089  0.660679  0.721908  0.828007  0.837504  \n",
       "Atr24  0.699272  0.710019  0.660250  0.617920  0.689712  0.771216  0.839392  \n",
       "Atr25  0.739600  0.768037  0.672088  0.593523  0.663172  0.769315  0.857052  \n",
       "Atr26  0.707706  0.708283  0.649172  0.566313  0.628569  0.747339  0.872868  \n",
       "Atr27  0.741492  0.756652  0.697969  0.629278  0.675915  0.791929  0.869788  \n",
       "Atr28  0.685723  0.701984  0.627694  0.573582  0.659895  0.767266  0.846606  \n",
       "Atr29  0.761812  0.766783  0.704671  0.658174  0.722518  0.846811  0.892954  \n",
       "Atr30  0.699638  0.719207  0.658454  0.619378  0.686362  0.792509  0.874531  \n",
       "Atr31  0.655936  0.687783  0.687045  0.611062  0.679921  0.759989  0.792607  \n",
       "Atr32  0.673165  0.691838  0.741075  0.572254  0.730081  0.766907  0.829056  \n",
       "Atr33  0.766631  0.776502  0.785674  0.709548  0.768211  0.901159  0.861328  \n",
       "Atr34  0.683027  0.713617  0.748990  0.668027  0.757072  0.836086  0.835167  \n",
       "Atr35  0.750962  0.781901  0.707727  0.706958  0.775465  0.891120  0.862624  \n",
       "Atr36  0.741410  0.772204  0.743875  0.694532  0.787044  0.877572  0.886497  \n",
       "Atr37  0.719160  0.754757  0.743814  0.654428  0.736013  0.808107  0.863597  \n",
       "Atr38  0.713444  0.738703  0.718405  0.620069  0.713120  0.835082  0.883311  \n",
       "Atr39  0.738208  0.763041  0.690443  0.650786  0.688828  0.812679  0.896180  \n",
       "Atr40  0.717965  0.756052  0.712333  0.630086  0.716196  0.796685  0.938684  \n",
       "Atr41  0.712495  0.729924  0.666691  0.636622  0.717272  0.849093  0.894356  \n",
       "Atr42  0.618445  0.616437  0.614892  0.580543  0.562994  0.673308  0.739629  \n",
       "Atr43  0.546105  0.523015  0.459008  0.513790  0.387796  0.543614  0.566242  \n",
       "Atr44  0.724733  0.708330  0.676761  0.585740  0.626303  0.741815  0.847336  \n",
       "Atr45  0.530254  0.540485  0.487817  0.495944  0.422336  0.586874  0.546450  \n",
       "Atr46  0.530939  0.523832  0.490177  0.550210  0.505164  0.483424  0.443465  \n",
       "Atr47  0.649803  0.658809  0.600896  0.571223  0.623877  0.689735  0.656409  \n",
       "Atr48  0.594826  0.640171  0.697531  0.513645  0.637911  0.588135  0.619830  \n",
       "Atr49  1.000000  0.863896  0.730045  0.560331  0.541626  0.685991  0.740704  \n",
       "Atr50  0.863896  1.000000  0.852839  0.622362  0.613642  0.747848  0.755248  \n",
       "Atr51  0.730045  0.852839  1.000000  0.610769  0.650090  0.737811  0.692681  \n",
       "Atr52  0.560331  0.622362  0.610769  1.000000  0.803221  0.771315  0.651478  \n",
       "Atr53  0.541626  0.613642  0.650090  0.803221  1.000000  0.788348  0.711176  \n",
       "Atr54  0.685991  0.747848  0.737811  0.771315  0.788348  1.000000  0.806765  \n",
       "Class  0.740704  0.755248  0.692681  0.651478  0.711176  0.806765  1.000000  \n",
       "\n",
       "[55 rows x 55 columns]"
      ]
     },
     "execution_count": 138,
     "metadata": {},
     "output_type": "execute_result"
    }
   ],
   "source": [
    "corr"
   ]
  },
  {
   "cell_type": "markdown",
   "metadata": {},
   "source": [
    "Tabel diatas menunjukkan bahwa angka yang lebih besar menunjukkan korelasi yang lebih kuat. Di bawah ini akan terlihat korelasi antar tiap-tiap atribut dengan visualisasi menggunakan bar chart"
   ]
  },
  {
   "cell_type": "code",
   "execution_count": 148,
   "metadata": {},
   "outputs": [
    {
     "data": {
      "text/plain": [
       "Text(0.5, 0, 'Atr6')"
      ]
     },
     "execution_count": 148,
     "metadata": {},
     "output_type": "execute_result"
    },
    {
     "data": {
      "image/png": "[encoded data removed]",
      "text/plain": [
       "<Figure size 360x216 with 1 Axes>"
      ]
     },
     "metadata": {},
     "output_type": "display_data"
    },
    {
     "data": {
      "image/png": "[encoded data removed]",
      "text/plain": [
       "<Figure size 360x216 with 1 Axes>"
      ]
     },
     "metadata": {},
     "output_type": "display_data"
    },
    {
     "data": {
      "image/png": "[encoded data removed]",
      "text/plain": [
       "<Figure size 360x216 with 1 Axes>"
      ]
     },
     "metadata": {},
     "output_type": "display_data"
    },
    {
     "data": {
      "image/png": "[encoded data removed]",
      "text/plain": [
       "<Figure size 360x216 with 1 Axes>"
      ]
     },
     "metadata": {},
     "output_type": "display_data"
    },
    {
     "data": {
      "image/png": "[encoded data removed]",
      "text/plain": [
       "<Figure size 360x216 with 1 Axes>"
      ]
     },
     "metadata": {},
     "output_type": "display_data"
    },
    {
     "data": {
      "image/png": "[encoded data removed]",
      "text/plain": [
       "<Figure size 360x216 with 1 Axes>"
      ]
     },
     "metadata": {},
     "output_type": "display_data"
    }
   ],
   "source": [
    "plt.style.use('ggplot')\n",
    "pd.crosstab(df.Atr1, df.Class).plot(kind=\"bar\", figsize=(5,3))\n",
    "df.Atr1.plot(kind='hist',color='grey',edgecolor='brown',figsize=(5,3))\n",
    "plt.xlabel('Atr1', size=18)\n",
    "\n",
    "plt.style.use('ggplot')\n",
    "pd.crosstab(df.Atr2, df.Class).plot(kind=\"bar\", figsize=(5,3))\n",
    "df.Atr2.plot(kind='hist',color='grey',edgecolor='brown',figsize=(5,3))\n",
    "plt.xlabel('Atr2', size=18)\n",
    "\n",
    "plt.style.use('ggplot')\n",
    "pd.crosstab(df.Atr3, df.Class).plot(kind=\"bar\", figsize=(5,3))\n",
    "df.Atr3.plot(kind='hist',color='grey',edgecolor='black',figsize=(5,3))\n",
    "plt.xlabel('Atr3', size=18)\n",
    "\n",
    "plt.style.use('ggplot')\n",
    "pd.crosstab(df.Atr4, df.Class).plot(kind=\"bar\", figsize=(5,3))\n",
    "df.Atr4.plot(kind='hist',color='grey',edgecolor='brown',figsize=(5,3))\n",
    "plt.xlabel('Atr4', size=18)\n",
    "\n",
    "plt.style.use('ggplot')\n",
    "pd.crosstab(df.Atr5, df.Class).plot(kind=\"bar\", figsize=(5,3))\n",
    "df.Atr5.plot(kind='hist',color='grey',edgecolor='brown',figsize=(5,3))\n",
    "plt.xlabel('Atr5', size=18)\n",
    "\n",
    "plt.style.use('ggplot')\n",
    "pd.crosstab(df.Atr6, df.Class).plot(kind=\"bar\", figsize=(5,3))\n",
    "df.Atr6.plot(kind='hist',color='grey',edgecolor='brown',figsize=(5,3))\n",
    "plt.xlabel('Atr6', size=18)"
   ]
  },
  {
   "cell_type": "code",
   "execution_count": 149,
   "metadata": {},
   "outputs": [
    {
     "data": {
      "text/plain": [
       "Text(0.5, 0, 'Atr12')"
      ]
     },
     "execution_count": 149,
     "metadata": {},
     "output_type": "execute_result"
    },
    {
     "data": {
      "image/png": "[encoded data removed]",
      "text/plain": [
       "<Figure size 360x216 with 1 Axes>"
      ]
     },
     "metadata": {},
     "output_type": "display_data"
    },
    {
     "data": {
      "image/png": "[encoded data removed]",
      "text/plain": [
       "<Figure size 360x216 with 1 Axes>"
      ]
     },
     "metadata": {},
     "output_type": "display_data"
    },
    {
     "data": {
      "image/png": "[encoded data removed]",
      "text/plain": [
       "<Figure size 360x216 with 1 Axes>"
      ]
     },
     "metadata": {},
     "output_type": "display_data"
    },
    {
     "data": {
      "image/png": "[encoded data removed]",
      "text/plain": [
       "<Figure size 360x216 with 1 Axes>"
      ]
     },
     "metadata": {},
     "output_type": "display_data"
    },
    {
     "data": {
      "image/png": "[encoded data removed]",
      "text/plain": [
       "<Figure size 360x216 with 1 Axes>"
      ]
     },
     "metadata": {},
     "output_type": "display_data"
    },
    {
     "data": {
      "image/png": "[encoded data removed]",
      "text/plain": [
       "<Figure size 360x216 with 1 Axes>"
      ]
     },
     "metadata": {},
     "output_type": "display_data"
    }
   ],
   "source": [
    "plt.style.use('ggplot')\n",
    "pd.crosstab(df.Atr7, df.Class).plot(kind=\"bar\", figsize=(5,3))\n",
    "df.Atr7.plot(kind='hist',color='grey',edgecolor='brown',figsize=(5,3))\n",
    "plt.xlabel('Atr7', size=18)\n",
    "\n",
    "plt.style.use('ggplot')\n",
    "pd.crosstab(df.Atr8, df.Class).plot(kind=\"bar\", figsize=(5,3))\n",
    "df.Atr8.plot(kind='hist',color='grey',edgecolor='brown',figsize=(5,3))\n",
    "plt.xlabel('Atr8', size=18)\n",
    "\n",
    "plt.style.use('ggplot')\n",
    "pd.crosstab(df.Atr9, df.Class).plot(kind=\"bar\", figsize=(5,3))\n",
    "df.Atr9.plot(kind='hist',color='grey',edgecolor='brown',figsize=(5,3))\n",
    "plt.xlabel('Atr9', size=18)\n",
    "\n",
    "plt.style.use('ggplot')\n",
    "pd.crosstab(df.Atr10, df.Class).plot(kind=\"bar\", figsize=(5,3))\n",
    "df.Atr10.plot(kind='hist',color='grey',edgecolor='brown',figsize=(5,3))\n",
    "plt.xlabel('Atr10', size=18)\n",
    "\n",
    "plt.style.use('ggplot')\n",
    "pd.crosstab(df.Atr11, df.Class).plot(kind=\"bar\", figsize=(5,3))\n",
    "df.Atr11.plot(kind='hist',color='grey',edgecolor='brown',figsize=(5,3))\n",
    "plt.xlabel('Atr11', size=18)\n",
    "\n",
    "plt.style.use('ggplot')\n",
    "pd.crosstab(df.Atr12, df.Class).plot(kind=\"bar\", figsize=(5,3))\n",
    "df.Atr12.plot(kind='hist',color='grey',edgecolor='brown',figsize=(5,3))\n",
    "plt.xlabel('Atr12', size=18)"
   ]
  },
  {
   "cell_type": "code",
   "execution_count": 150,
   "metadata": {},
   "outputs": [
    {
     "data": {
      "text/plain": [
       "Text(0.5, 0, 'Atr18')"
      ]
     },
     "execution_count": 150,
     "metadata": {},
     "output_type": "execute_result"
    },
    {
     "data": {
      "image/png": "[encoded data removed]",
      "text/plain": [
       "<Figure size 360x216 with 1 Axes>"
      ]
     },
     "metadata": {},
     "output_type": "display_data"
    },
    {
     "data": {
      "image/png": "[encoded data removed]",
      "text/plain": [
       "<Figure size 360x216 with 1 Axes>"
      ]
     },
     "metadata": {},
     "output_type": "display_data"
    },
    {
     "data": {
      "image/png": "[encoded data removed]",
      "text/plain": [
       "<Figure size 360x216 with 1 Axes>"
      ]
     },
     "metadata": {},
     "output_type": "display_data"
    },
    {
     "data": {
      "image/png": "[encoded data removed]",
      "text/plain": [
       "<Figure size 360x216 with 1 Axes>"
      ]
     },
     "metadata": {},
     "output_type": "display_data"
    },
    {
     "data": {
      "image/png": "[encoded data removed]",
      "text/plain": [
       "<Figure size 360x216 with 1 Axes>"
      ]
     },
     "metadata": {},
     "output_type": "display_data"
    },
    {
     "data": {
      "image/png": "[encoded data removed]",
      "text/plain": [
       "<Figure size 360x216 with 1 Axes>"
      ]
     },
     "metadata": {},
     "output_type": "display_data"
    }
   ],
   "source": [
    "plt.style.use('ggplot')\n",
    "pd.crosstab(df.Atr13, df.Class).plot(kind=\"bar\", figsize=(5,3))\n",
    "df.Atr13.plot(kind='hist',color='grey',edgecolor='brown',figsize=(5,3))\n",
    "plt.xlabel('Atr13', size=18)\n",
    "\n",
    "plt.style.use('ggplot')\n",
    "pd.crosstab(df.Atr14, df.Class).plot(kind=\"bar\", figsize=(5,3))\n",
    "df.Atr14.plot(kind='hist',color='grey',edgecolor='brown',figsize=(5,3))\n",
    "plt.xlabel('Atr14', size=18)\n",
    "\n",
    "plt.style.use('ggplot')\n",
    "pd.crosstab(df.Atr15, df.Class).plot(kind=\"bar\", figsize=(5,3))\n",
    "df.Atr15.plot(kind='hist',color='grey',edgecolor='brown',figsize=(5,3))\n",
    "plt.xlabel('Atr15', size=18)\n",
    "\n",
    "plt.style.use('ggplot')\n",
    "pd.crosstab(df.Atr16, df.Class).plot(kind=\"bar\", figsize=(5,3))\n",
    "df.Atr16.plot(kind='hist',color='grey',edgecolor='brown',figsize=(5,3))\n",
    "plt.xlabel('Atr16', size=18)\n",
    "\n",
    "plt.style.use('ggplot')\n",
    "pd.crosstab(df.Atr17, df.Class).plot(kind=\"bar\", figsize=(5,3))\n",
    "df.Atr17.plot(kind='hist',color='grey',edgecolor='brown',figsize=(5,3))\n",
    "plt.xlabel('Atr17', size=18)\n",
    "\n",
    "plt.style.use('ggplot')\n",
    "pd.crosstab(df.Atr18, df.Class).plot(kind=\"bar\", figsize=(5,3))\n",
    "df.Atr18.plot(kind='hist',color='grey',edgecolor='brown',figsize=(5,3))\n",
    "plt.xlabel('Atr18', size=18)\n"
   ]
  },
  {
   "cell_type": "code",
   "execution_count": 151,
   "metadata": {},
   "outputs": [
    {
     "data": {
      "text/plain": [
       "Text(0.5, 0, 'Atr24')"
      ]
     },
     "execution_count": 151,
     "metadata": {},
     "output_type": "execute_result"
    },
    {
     "data": {
      "image/png": "[encoded data removed]",
      "text/plain": [
       "<Figure size 360x216 with 1 Axes>"
      ]
     },
     "metadata": {},
     "output_type": "display_data"
    },
    {
     "data": {
      "image/png": "[encoded data removed]",
      "text/plain": [
       "<Figure size 360x216 with 1 Axes>"
      ]
     },
     "metadata": {},
     "output_type": "display_data"
    },
    {
     "data": {
      "image/png": "[encoded data removed]",
      "text/plain": [
       "<Figure size 360x216 with 1 Axes>"
      ]
     },
     "metadata": {},
     "output_type": "display_data"
    },
    {
     "data": {
      "image/png": "[encoded data removed]",
      "text/plain": [
       "<Figure size 360x216 with 1 Axes>"
      ]
     },
     "metadata": {},
     "output_type": "display_data"
    },
    {
     "data": {
      "image/png": "[encoded data removed]",
      "text/plain": [
       "<Figure size 360x216 with 1 Axes>"
      ]
     },
     "metadata": {},
     "output_type": "display_data"
    },
    {
     "data": {
      "image/png": "[encoded data removed]",
      "text/plain": [
       "<Figure size 360x216 with 1 Axes>"
      ]
     },
     "metadata": {},
     "output_type": "display_data"
    }
   ],
   "source": [
    "plt.style.use('ggplot')\n",
    "pd.crosstab(df.Atr19, df.Class).plot(kind=\"bar\", figsize=(5,3))\n",
    "df.Atr19.plot(kind='hist',color='grey',edgecolor='brown',figsize=(5,3))\n",
    "plt.xlabel('Atr19', size=18)\n",
    "\n",
    "plt.style.use('ggplot')\n",
    "pd.crosstab(df.Atr20, df.Class).plot(kind=\"bar\", figsize=(5,3))\n",
    "df.Atr20.plot(kind='hist',color='grey',edgecolor='brown',figsize=(5,3))\n",
    "plt.xlabel('Atr20', size=18)\n",
    "\n",
    "plt.style.use('ggplot')\n",
    "pd.crosstab(df.Atr21, df.Class).plot(kind=\"bar\", figsize=(5,3))\n",
    "df.Atr21.plot(kind='hist',color='grey',edgecolor='brown',figsize=(5,3))\n",
    "plt.xlabel('Atr21', size=18)\n",
    "\n",
    "plt.style.use('ggplot')\n",
    "pd.crosstab(df.Atr22, df.Class).plot(kind=\"bar\", figsize=(5,3))\n",
    "df.Atr22.plot(kind='hist',color='grey',edgecolor='brown',figsize=(5,3))\n",
    "plt.xlabel('Atr22', size=18)\n",
    "\n",
    "plt.style.use('ggplot')\n",
    "pd.crosstab(df.Atr23, df.Class).plot(kind=\"bar\", figsize=(5,3))\n",
    "df.Atr23.plot(kind='hist',color='grey',edgecolor='brown',figsize=(5,3))\n",
    "plt.xlabel('Atr23', size=18)\n",
    "\n",
    "plt.style.use('ggplot')\n",
    "pd.crosstab(df.Atr24, df.Class).plot(kind=\"bar\", figsize=(5,3))\n",
    "df.Atr24.plot(kind='hist',color='grey',edgecolor='brown',figsize=(5,3))\n",
    "plt.xlabel('Atr24', size=18)"
   ]
  },
  {
   "cell_type": "code",
   "execution_count": 152,
   "metadata": {},
   "outputs": [
    {
     "data": {
      "text/plain": [
       "Text(0.5, 0, 'Atr30')"
      ]
     },
     "execution_count": 152,
     "metadata": {},
     "output_type": "execute_result"
    },
    {
     "data": {
      "image/png": "[encoded data removed]",
      "text/plain": [
       "<Figure size 360x216 with 1 Axes>"
      ]
     },
     "metadata": {},
     "output_type": "display_data"
    },
    {
     "data": {
      "image/png": "[encoded data removed]",
      "text/plain": [
       "<Figure size 360x216 with 1 Axes>"
      ]
     },
     "metadata": {},
     "output_type": "display_data"
    },
    {
     "data": {
      "image/png": "[encoded data removed]",
      "text/plain": [
       "<Figure size 360x216 with 1 Axes>"
      ]
     },
     "metadata": {},
     "output_type": "display_data"
    },
    {
     "data": {
      "image/png": "[encoded data removed]",
      "text/plain": [
       "<Figure size 360x216 with 1 Axes>"
      ]
     },
     "metadata": {},
     "output_type": "display_data"
    },
    {
     "data": {
      "image/png": "[encoded data removed]",
      "text/plain": [
       "<Figure size 360x216 with 1 Axes>"
      ]
     },
     "metadata": {},
     "output_type": "display_data"
    },
    {
     "data": {
      "image/png": "[encoded data removed]",
      "text/plain": [
       "<Figure size 360x216 with 1 Axes>"
      ]
     },
     "metadata": {},
     "output_type": "display_data"
    }
   ],
   "source": [
    "plt.style.use('ggplot')\n",
    "pd.crosstab(df.Atr25, df.Class).plot(kind=\"bar\", figsize=(5,3))\n",
    "df.Atr25.plot(kind='hist',color='grey',edgecolor='brown',figsize=(5,3))\n",
    "plt.xlabel('Atr25', size=18)\n",
    "\n",
    "plt.style.use('ggplot')\n",
    "pd.crosstab(df.Atr26, df.Class).plot(kind=\"bar\", figsize=(5,3))\n",
    "df.Atr26.plot(kind='hist',color='grey',edgecolor='brown',figsize=(5,3))\n",
    "plt.xlabel('Atr26', size=18)\n",
    "\n",
    "plt.style.use('ggplot')\n",
    "pd.crosstab(df.Atr27, df.Class).plot(kind=\"bar\", figsize=(5,3))\n",
    "df.Atr27.plot(kind='hist',color='grey',edgecolor='brown',figsize=(5,3))\n",
    "plt.xlabel('Atr27', size=18)\n",
    "\n",
    "plt.style.use('ggplot')\n",
    "pd.crosstab(df.Atr28, df.Class).plot(kind=\"bar\", figsize=(5,3))\n",
    "df.Atr28.plot(kind='hist',color='grey',edgecolor='brown',figsize=(5,3))\n",
    "plt.xlabel('Atr28', size=18)\n",
    "\n",
    "plt.style.use('ggplot')\n",
    "pd.crosstab(df.Atr29, df.Class).plot(kind=\"bar\", figsize=(5,3))\n",
    "df.Atr29.plot(kind='hist',color='grey',edgecolor='brown',figsize=(5,3))\n",
    "plt.xlabel('Atr29', size=18)\n",
    "\n",
    "plt.style.use('ggplot')\n",
    "pd.crosstab(df.Atr30, df.Class).plot(kind=\"bar\", figsize=(5,3))\n",
    "df.Atr30.plot(kind='hist',color='grey',edgecolor='brown',figsize=(5,3))\n",
    "plt.xlabel('Atr30', size=18)"
   ]
  },
  {
   "cell_type": "code",
   "execution_count": 153,
   "metadata": {},
   "outputs": [
    {
     "data": {
      "text/plain": [
       "Text(0.5, 0, 'Atr36')"
      ]
     },
     "execution_count": 153,
     "metadata": {},
     "output_type": "execute_result"
    },
    {
     "data": {
      "image/png": "[encoded data removed]",
      "text/plain": [
       "<Figure size 360x216 with 1 Axes>"
      ]
     },
     "metadata": {},
     "output_type": "display_data"
    },
    {
     "data": {
      "image/png": "[encoded data removed]",
      "text/plain": [
       "<Figure size 360x216 with 1 Axes>"
      ]
     },
     "metadata": {},
     "output_type": "display_data"
    },
    {
     "data": {
      "image/png": "[encoded data removed]",
      "text/plain": [
       "<Figure size 360x216 with 1 Axes>"
      ]
     },
     "metadata": {},
     "output_type": "display_data"
    },
    {
     "data": {
      "image/png": "[encoded data removed]",
      "text/plain": [
       "<Figure size 360x216 with 1 Axes>"
      ]
     },
     "metadata": {},
     "output_type": "display_data"
    },
    {
     "data": {
      "image/png": "[encoded data removed]",
      "text/plain": [
       "<Figure size 360x216 with 1 Axes>"
      ]
     },
     "metadata": {},
     "output_type": "display_data"
    },
    {
     "data": {
      "image/png": "[encoded data removed]",
      "text/plain": [
       "<Figure size 360x216 with 1 Axes>"
      ]
     },
     "metadata": {},
     "output_type": "display_data"
    }
   ],
   "source": [
    "plt.style.use('ggplot')\n",
    "pd.crosstab(df.Atr31, df.Class).plot(kind=\"bar\", figsize=(5,3))\n",
    "df.Atr31.plot(kind='hist',color='grey',edgecolor='brown',figsize=(5,3))\n",
    "plt.xlabel('Atr31', size=18)\n",
    "\n",
    "plt.style.use('ggplot')\n",
    "pd.crosstab(df.Atr32, df.Class).plot(kind=\"bar\", figsize=(5,3))\n",
    "df.Atr32.plot(kind='hist',color='grey',edgecolor='brown',figsize=(5,3))\n",
    "plt.xlabel('Atr32', size=18)\n",
    "\n",
    "plt.style.use('ggplot')\n",
    "pd.crosstab(df.Atr33, df.Class).plot(kind=\"bar\", figsize=(5,3))\n",
    "df.Atr33.plot(kind='hist',color='grey',edgecolor='brown',figsize=(5,3))\n",
    "plt.xlabel('Atr33', size=18)\n",
    "\n",
    "plt.style.use('ggplot')\n",
    "pd.crosstab(df.Atr34, df.Class).plot(kind=\"bar\", figsize=(5,3))\n",
    "df.Atr34.plot(kind='hist',color='grey',edgecolor='brown',figsize=(5,3))\n",
    "plt.xlabel('Atr34', size=18)\n",
    "\n",
    "plt.style.use('ggplot')\n",
    "pd.crosstab(df.Atr35, df.Class).plot(kind=\"bar\", figsize=(5,3))\n",
    "df.Atr35.plot(kind='hist',color='grey',edgecolor='brown',figsize=(5,3))\n",
    "plt.xlabel('Atr35', size=18)\n",
    "\n",
    "plt.style.use('ggplot')\n",
    "pd.crosstab(df.Atr36, df.Class).plot(kind=\"bar\", figsize=(5,3))\n",
    "df.Atr36.plot(kind='hist',color='grey',edgecolor='brown',figsize=(5,3))\n",
    "plt.xlabel('Atr36', size=18)"
   ]
  },
  {
   "cell_type": "code",
   "execution_count": 154,
   "metadata": {},
   "outputs": [
    {
     "data": {
      "text/plain": [
       "Text(0.5, 0, 'Atr42')"
      ]
     },
     "execution_count": 154,
     "metadata": {},
     "output_type": "execute_result"
    },
    {
     "data": {
      "image/png": "[encoded data removed]",
      "text/plain": [
       "<Figure size 360x216 with 1 Axes>"
      ]
     },
     "metadata": {},
     "output_type": "display_data"
    },
    {
     "data": {
      "image/png": "[encoded data removed]",
      "text/plain": [
       "<Figure size 360x216 with 1 Axes>"
      ]
     },
     "metadata": {},
     "output_type": "display_data"
    },
    {
     "data": {
      "image/png": "[encoded data removed]",
      "text/plain": [
       "<Figure size 360x216 with 1 Axes>"
      ]
     },
     "metadata": {},
     "output_type": "display_data"
    },
    {
     "data": {
      "image/png": "[encoded data removed]",
      "text/plain": [
       "<Figure size 360x216 with 1 Axes>"
      ]
     },
     "metadata": {},
     "output_type": "display_data"
    },
    {
     "data": {
      "image/png": "[encoded data removed]",
      "text/plain": [
       "<Figure size 360x216 with 1 Axes>"
      ]
     },
     "metadata": {},
     "output_type": "display_data"
    },
    {
     "data": {
      "image/png": "[encoded data removed]",
      "text/plain": [
       "<Figure size 360x216 with 1 Axes>"
      ]
     },
     "metadata": {},
     "output_type": "display_data"
    }
   ],
   "source": [
    "plt.style.use('ggplot')\n",
    "pd.crosstab(df.Atr37, df.Class).plot(kind=\"bar\", figsize=(5,3))\n",
    "df.Atr37.plot(kind='hist',color='grey',edgecolor='brown',figsize=(5,3))\n",
    "plt.xlabel('Atr37', size=18)\n",
    "\n",
    "plt.style.use('ggplot')\n",
    "pd.crosstab(df.Atr38, df.Class).plot(kind=\"bar\", figsize=(5,3))\n",
    "df.Atr38.plot(kind='hist',color='grey',edgecolor='brown',figsize=(5,3))\n",
    "plt.xlabel('Atr38', size=18)\n",
    "\n",
    "plt.style.use('ggplot')\n",
    "pd.crosstab(df.Atr39, df.Class).plot(kind=\"bar\", figsize=(5,3))\n",
    "df.Atr39.plot(kind='hist',color='grey',edgecolor='brown',figsize=(5,3))\n",
    "plt.xlabel('Atr39', size=18)\n",
    "\n",
    "plt.style.use('ggplot')\n",
    "pd.crosstab(df.Atr40, df.Class).plot(kind=\"bar\", figsize=(5,3))\n",
    "df.Atr40.plot(kind='hist',color='grey',edgecolor='brown',figsize=(5,3))\n",
    "plt.xlabel('Atr40', size=18)\n",
    "\n",
    "plt.style.use('ggplot')\n",
    "pd.crosstab(df.Atr41, df.Class).plot(kind=\"bar\", figsize=(5,3))\n",
    "df.Atr41.plot(kind='hist',color='grey',edgecolor='brown',figsize=(5,3))\n",
    "plt.xlabel('Atr41', size=18)\n",
    "\n",
    "plt.style.use('ggplot')\n",
    "pd.crosstab(df.Atr42, df.Class).plot(kind=\"bar\", figsize=(5,3))\n",
    "df.Atr42.plot(kind='hist',color='grey',edgecolor='brown',figsize=(5,3))\n",
    "plt.xlabel('Atr42', size=18)"
   ]
  },
  {
   "cell_type": "code",
   "execution_count": 92,
   "metadata": {},
   "outputs": [
    {
     "data": {
      "text/plain": [
       "Text(0.5, 0, 'Atr48')"
      ]
     },
     "execution_count": 92,
     "metadata": {},
     "output_type": "execute_result"
    },
    {
     "data": {
      "image/png": "[encoded data removed]",
      "text/plain": [
       "<Figure size 360x216 with 1 Axes>"
      ]
     },
     "metadata": {},
     "output_type": "display_data"
    },
    {
     "data": {
      "image/png": "[encoded data removed]",
      "text/plain": [
       "<Figure size 360x216 with 1 Axes>"
      ]
     },
     "metadata": {},
     "output_type": "display_data"
    },
    {
     "data": {
      "image/png": "[encoded data removed]",
      "text/plain": [
       "<Figure size 360x216 with 1 Axes>"
      ]
     },
     "metadata": {},
     "output_type": "display_data"
    },
    {
     "data": {
      "image/png": "[encoded data removed]",
      "text/plain": [
       "<Figure size 360x216 with 1 Axes>"
      ]
     },
     "metadata": {},
     "output_type": "display_data"
    },
    {
     "data": {
      "image/png": "[encoded data removed]",
      "text/plain": [
       "<Figure size 360x216 with 1 Axes>"
      ]
     },
     "metadata": {},
     "output_type": "display_data"
    },
    {
     "data": {
      "image/png": "[encoded data removed]",
      "text/plain": [
       "<Figure size 360x216 with 1 Axes>"
      ]
     },
     "metadata": {},
     "output_type": "display_data"
    }
   ],
   "source": [
    "plt.style.use('ggplot')\n",
    "pd.crosstab(df.Atr43, df.Class).plot(kind=\"bar\", figsize=(5,3))\n",
    "df.Atr43.plot(kind='hist',color='grey',edgecolor='brown',figsize=(5,3))\n",
    "plt.xlabel('Atr43', size=18)\n",
    "\n",
    "plt.style.use('ggplot')\n",
    "pd.crosstab(df.Atr44, df.Class).plot(kind=\"bar\", figsize=(5,3))\n",
    "df.Atr44.plot(kind='hist',color='grey',edgecolor='brown',figsize=(5,3))\n",
    "plt.xlabel('Atr44', size=18)\n",
    "\n",
    "plt.style.use('ggplot')\n",
    "pd.crosstab(df.Atr45, df.Class).plot(kind=\"bar\", figsize=(5,3))\n",
    "df.Atr45.plot(kind='hist',color='grey',edgecolor='brown',figsize=(5,3))\n",
    "plt.xlabel('Atr45', size=18)\n",
    "\n",
    "plt.style.use('ggplot')\n",
    "pd.crosstab(df.Atr46, df.Class).plot(kind=\"bar\", figsize=(5,3))\n",
    "df.Atr46.plot(kind='hist',color='grey',edgecolor='brown',figsize=(5,3))\n",
    "plt.xlabel('Atr46', size=18)\n",
    "\n",
    "plt.style.use('ggplot')\n",
    "pd.crosstab(df.Atr47, df.Class).plot(kind=\"bar\", figsize=(5,3))\n",
    "df.Atr47.plot(kind='hist',color='grey',edgecolor='brown',figsize=(5,3))\n",
    "plt.xlabel('Atr47', size=18)\n",
    "\n",
    "plt.style.use('ggplot')\n",
    "pd.crosstab(df.Atr48, df.Class).plot(kind=\"bar\", figsize=(5,3))\n",
    "df.Atr48.plot(kind='hist',color='grey',edgecolor='brown',figsize=(5,3))\n",
    "plt.xlabel('Atr48', size=18)"
   ]
  },
  {
   "cell_type": "code",
   "execution_count": 129,
   "metadata": {},
   "outputs": [
    {
     "data": {
      "text/plain": [
       "Text(0.5, 0, 'Atr54')"
      ]
     },
     "execution_count": 129,
     "metadata": {},
     "output_type": "execute_result"
    },
    {
     "data": {
      "image/png": "[encoded data removed]",
      "text/plain": [
       "<Figure size 360x216 with 1 Axes>"
      ]
     },
     "metadata": {},
     "output_type": "display_data"
    },
    {
     "data": {
      "image/png": "[encoded data removed]",
      "text/plain": [
       "<Figure size 360x216 with 1 Axes>"
      ]
     },
     "metadata": {},
     "output_type": "display_data"
    },
    {
     "data": {
      "image/png": "[encoded data removed]",
      "text/plain": [
       "<Figure size 360x216 with 1 Axes>"
      ]
     },
     "metadata": {},
     "output_type": "display_data"
    },
    {
     "data": {
      "image/png": "[encoded data removed]",
      "text/plain": [
       "<Figure size 360x216 with 1 Axes>"
      ]
     },
     "metadata": {},
     "output_type": "display_data"
    },
    {
     "data": {
      "image/png": "[encoded data removed]",
      "text/plain": [
       "<Figure size 360x216 with 1 Axes>"
      ]
     },
     "metadata": {},
     "output_type": "display_data"
    },
    {
     "data": {
      "image/png": "[encoded data removed]",
      "text/plain": [
       "<Figure size 360x216 with 1 Axes>"
      ]
     },
     "metadata": {},
     "output_type": "display_data"
    }
   ],
   "source": [
    "plt.style.use('ggplot')\n",
    "pd.crosstab(df.Atr49, df.Class).plot(kind=\"bar\", figsize=(5,3))\n",
    "df.Atr49.plot(kind='hist',color='grey',edgecolor='brown',figsize=(5,3))\n",
    "plt.xlabel('Atr49', size=18)\n",
    "\n",
    "plt.style.use('ggplot')\n",
    "pd.crosstab(df.Atr50, df.Class).plot(kind=\"bar\", figsize=(5,3))\n",
    "df.Atr50.plot(kind='hist',color='grey',edgecolor='brown',figsize=(5,3))\n",
    "plt.xlabel('Atr50', size=18)\n",
    "\n",
    "plt.style.use('ggplot')\n",
    "pd.crosstab(df.Atr51, df.Class).plot(kind=\"bar\", figsize=(5,3))\n",
    "df.Atr51.plot(kind='hist',color='grey',edgecolor='brown',figsize=(5,3))\n",
    "plt.xlabel('Atr51', size=18)\n",
    "\n",
    "plt.style.use('ggplot')\n",
    "pd.crosstab(df.Atr52, df.Class).plot(kind=\"bar\", figsize=(5,3))\n",
    "df.Atr52.plot(kind='hist',color='grey',edgecolor='brown',figsize=(5,3))\n",
    "plt.xlabel('Atr52', size=18)\n",
    "\n",
    "plt.style.use('ggplot')\n",
    "pd.crosstab(df.Atr53, df.Class).plot(kind=\"bar\", figsize=(5,3))\n",
    "df.Atr53.plot(kind='hist',color='grey',edgecolor='brown',figsize=(5,3))\n",
    "plt.xlabel('Atr53', size=18)\n",
    "\n",
    "plt.style.use('ggplot')\n",
    "pd.crosstab(df.Atr54, df.Class).plot(kind=\"bar\", figsize=(5,3))\n",
    "df.Atr54.plot(kind='hist',color='grey',edgecolor='brown',figsize=(5,3))\n",
    "plt.xlabel('Atr54', size=18)"
   ]
  },
  {
   "cell_type": "markdown",
   "metadata": {},
   "source": [
    "## Melihat Atribut yang Signifikan"
   ]
  },
  {
   "cell_type": "markdown",
   "metadata": {},
   "source": [
    "Beradasarkan output korelasi di atas,terdapat 8 variabel/atribut yang paling efektif dan nilai signifikansinya >= 0.9 yang diperoleh dengan menerapkan metode seleksi fitur berbasis korelasi, yaitu Atr9, Atr11, Atr15, Atr17, Atr18, Atr19, Atr20, dan Atr40. Untuk melihat keterangan atribut dapat menggunakan fungsi berikut:"
   ]
  },
  {
   "cell_type": "code",
   "execution_count": 94,
   "metadata": {},
   "outputs": [
    {
     "data": {
      "text/plain": [
       "<Worksheet \"Sheet1\">"
      ]
     },
     "execution_count": 94,
     "metadata": {},
     "output_type": "execute_result"
    }
   ],
   "source": [
    "from openpyxl import load_workbook\n",
    "workbook = load_workbook(filename=\"dataset/divorce_attribute.xlsx\")\n",
    "workbook.sheetnames\n",
    "\n",
    "\n",
    "sheet = workbook.active\n",
    "sheet"
   ]
  },
  {
   "cell_type": "code",
   "execution_count": null,
   "metadata": {},
   "outputs": [],
   "source": []
  },
  {
   "cell_type": "code",
   "execution_count": 95,
   "metadata": {},
   "outputs": [
    {
     "data": {
      "text/plain": [
       "'Atr9. Saya menikmati bepergian dengan istri saya.'"
      ]
     },
     "execution_count": 95,
     "metadata": {},
     "output_type": "execute_result"
    }
   ],
   "source": [
    "sheet[\"A9\"].value"
   ]
  },
  {
   "cell_type": "code",
   "execution_count": 96,
   "metadata": {},
   "outputs": [
    {
     "data": {
      "text/plain": [
       "'Atr11. Saya berpikir bahwa suatu hari di masa depan, ketika saya melihat ke belakang, saya melihat bahwa pasangan saya dan saya telah selaras satu sama lain.'"
      ]
     },
     "execution_count": 96,
     "metadata": {},
     "output_type": "execute_result"
    }
   ],
   "source": [
    "sheet[\"A11\"].value"
   ]
  },
  {
   "cell_type": "code",
   "execution_count": 97,
   "metadata": {},
   "outputs": [
    {
     "data": {
      "text/plain": [
       "'Atr15. Impian kami dengan pasangan saya adalah sama dan harmonis.'"
      ]
     },
     "execution_count": 97,
     "metadata": {},
     "output_type": "execute_result"
    }
   ],
   "source": [
    "sheet[\"A15\"].value"
   ]
  },
  {
   "cell_type": "code",
   "execution_count": 98,
   "metadata": {},
   "outputs": [
    {
     "data": {
      "text/plain": [
       "'Atr17. Kami memiliki pandangan yang sama tentang bahagia dalam hidup kami dengan pasangan saya'"
      ]
     },
     "execution_count": 98,
     "metadata": {},
     "output_type": "execute_result"
    }
   ],
   "source": [
    "sheet[\"A17\"].value"
   ]
  },
  {
   "cell_type": "code",
   "execution_count": 99,
   "metadata": {},
   "outputs": [
    {
     "data": {
      "text/plain": [
       "'Atr18. Pasangan saya dan saya memiliki gagasan serupa tentang bagaimana pernikahan seharusnya'"
      ]
     },
     "execution_count": 99,
     "metadata": {},
     "output_type": "execute_result"
    }
   ],
   "source": [
    "sheet[\"A18\"].value"
   ]
  },
  {
   "cell_type": "code",
   "execution_count": 100,
   "metadata": {},
   "outputs": [
    {
     "data": {
      "text/plain": [
       "'Atr19. Saya dan istri/suami memiliki pendapat yang sama tentang bagaimana seharusnya peran dalam pernikahan'"
      ]
     },
     "execution_count": 100,
     "metadata": {},
     "output_type": "execute_result"
    }
   ],
   "source": [
    "sheet[\"A19\"].value"
   ]
  },
  {
   "cell_type": "code",
   "execution_count": 101,
   "metadata": {},
   "outputs": [
    {
     "data": {
      "text/plain": [
       "'Atr20. Pasangan saya dan saya memiliki nilai-nilai yang sama dalam kepercayaan.'"
      ]
     },
     "execution_count": 101,
     "metadata": {},
     "output_type": "execute_result"
    }
   ],
   "source": [
    "sheet[\"A20\"].value"
   ]
  },
  {
   "cell_type": "code",
   "execution_count": 102,
   "metadata": {},
   "outputs": [
    {
     "data": {
      "text/plain": [
       "'Atr40. Kami baru memulai diskusi sebelum saya tahu apa yang terjadi.'"
      ]
     },
     "execution_count": 102,
     "metadata": {},
     "output_type": "execute_result"
    }
   ],
   "source": [
    "sheet[\"A40\"].value"
   ]
  },
  {
   "cell_type": "markdown",
   "metadata": {},
   "source": [
    "Tahapan ini akan memisahkan dataset ke dalam data training dan data testing yang akan otomatis diolah python, dan rasio yang dihasilkan sebesar 70-30."
   ]
  },
  {
   "cell_type": "code",
   "execution_count": 103,
   "metadata": {},
   "outputs": [],
   "source": [
    "y= data['Class']\n",
    "X=data.drop('Class',axis=1)"
   ]
  },
  {
   "cell_type": "code",
   "execution_count": 104,
   "metadata": {},
   "outputs": [
    {
     "name": "stdout",
     "output_type": "stream",
     "text": [
      "(113, 54)\n"
     ]
    }
   ],
   "source": [
    "import numpy as np\n",
    "from sklearn.model_selection import train_test_split\n",
    "X_train, X_test, y_train, y_test = train_test_split(X,y, test_size=0.33, random_state=42)\n",
    "print((X_train.shape))"
   ]
  },
  {
   "cell_type": "markdown",
   "metadata": {},
   "source": [
    "## Metode Regresi Logistik"
   ]
  },
  {
   "cell_type": "code",
   "execution_count": 105,
   "metadata": {},
   "outputs": [
    {
     "data": {
      "text/plain": [
       "array([[2, 2, 4, 1, 0, 0, 0, 0, 0, 0, 1, 0, 1, 1, 0, 1, 0, 0, 0, 1, 0, 0,\n",
       "        0, 0, 0, 0, 0, 0, 0, 1, 1, 2, 1, 2, 0, 1, 2, 1, 3, 3, 2, 1, 1, 2,\n",
       "        3, 2, 1, 3, 3, 3, 2, 3, 2, 1],\n",
       "       [4, 4, 4, 4, 4, 0, 0, 4, 4, 4, 4, 3, 4, 0, 4, 4, 4, 4, 3, 2, 1, 1,\n",
       "        0, 2, 2, 1, 2, 0, 1, 1, 0, 4, 2, 3, 0, 2, 3, 4, 2, 4, 2, 2, 3, 4,\n",
       "        2, 2, 2, 3, 4, 4, 4, 4, 2, 2],\n",
       "       [2, 2, 2, 2, 1, 3, 2, 1, 1, 2, 3, 4, 2, 3, 3, 3, 3, 3, 3, 2, 1, 0,\n",
       "        1, 2, 2, 2, 2, 2, 3, 2, 3, 3, 1, 1, 1, 1, 2, 1, 3, 3, 3, 3, 2, 3,\n",
       "        2, 3, 2, 3, 1, 1, 1, 2, 2, 2],\n",
       "       [3, 2, 3, 2, 3, 3, 3, 3, 3, 3, 4, 3, 3, 4, 3, 3, 3, 3, 3, 4, 1, 1,\n",
       "        1, 1, 2, 1, 1, 1, 1, 3, 2, 3, 2, 2, 1, 1, 3, 3, 4, 4, 2, 2, 3, 2,\n",
       "        3, 2, 2, 3, 3, 3, 3, 2, 2, 2],\n",
       "       [2, 2, 1, 1, 1, 1, 0, 0, 0, 0, 0, 1, 0, 1, 1, 1, 1, 1, 2, 1, 1, 0,\n",
       "        0, 0, 0, 2, 1, 2, 1, 1, 1, 1, 1, 1, 0, 0, 0, 0, 2, 1, 0, 2, 3, 0,\n",
       "        2, 2, 1, 2, 3, 2, 2, 2, 1, 0]], dtype=int64)"
      ]
     },
     "execution_count": 105,
     "metadata": {},
     "output_type": "execute_result"
    }
   ],
   "source": [
    "X = np.asarray(data[['Atr1','Atr2','Atr3','Atr4','Atr5','Atr6','Atr7','Atr8','Atr9','Atr10','Atr11','Atr12','Atr13','Atr14','Atr15','Atr16','Atr17','Atr18','Atr19','Atr20','Atr21','Atr22','Atr23','Atr24','Atr25','Atr26','Atr27','Atr28','Atr29','Atr30','Atr31','Atr32','Atr33','Atr34','Atr35','Atr36','Atr37','Atr38','Atr39','Atr40','Atr41','Atr42','Atr43','Atr44','Atr45','Atr46','Atr47','Atr48','Atr49','Atr50','Atr51','Atr52','Atr53','Atr54']])\n",
    "X[0:5]"
   ]
  },
  {
   "cell_type": "code",
   "execution_count": 106,
   "metadata": {},
   "outputs": [
    {
     "data": {
      "text/plain": [
       "array([1, 1, 1, 1, 1], dtype=int64)"
      ]
     },
     "execution_count": 106,
     "metadata": {},
     "output_type": "execute_result"
    }
   ],
   "source": [
    "y = np.asarray(data['Class'])\n",
    "y [0:5]"
   ]
  },
  {
   "cell_type": "markdown",
   "metadata": {},
   "source": [
    "Karena struktur dataset yang diperoleh sudah baik maka kita langsung membagi dataset menjadi data training dan data testing yang otomatis akan diproses oleh python menjadi 70-30"
   ]
  },
  {
   "cell_type": "code",
   "execution_count": 112,
   "metadata": {},
   "outputs": [
    {
     "data": {
      "text/plain": [
       "array([[ 0.14,  0.24,  1.58, -0.32, -0.95, -0.83, -0.55, -0.94, -0.94,\n",
       "        -1.11, -0.42, -1.13, -0.57, -0.38, -1.05, -0.32, -1.03, -0.97,\n",
       "        -1.  , -0.3 , -0.96, -0.86, -0.88, -1.01, -1.07, -0.99, -0.96,\n",
       "        -0.89, -0.94, -0.33, -0.68, -0.04, -0.45,  0.06, -0.91, -0.34,\n",
       "        -0.05, -0.5 ,  0.53,  0.63,  0.  , -0.74, -1.27,  0.04,  0.36,\n",
       "        -0.4 , -0.8 ,  0.23,  0.41,  0.41, -0.38,  0.33, -0.16, -0.61],\n",
       "       [ 1.37,  1.6 ,  1.58,  1.68,  1.51, -0.83, -0.55,  1.65,  1.64,\n",
       "         1.71,  1.41,  0.92,  1.47, -1.05,  1.62,  1.68,  1.46,  1.59,\n",
       "         0.83,  0.35, -0.27, -0.17, -0.88,  0.33,  0.24, -0.33,  0.41,\n",
       "        -0.89, -0.31, -0.33, -1.29,  1.2 ,  0.11,  0.68, -0.91,  0.22,\n",
       "         0.53,  1.24, -0.05,  1.19,  0.  , -0.1 ,  0.22,  1.23, -0.31,\n",
       "        -0.4 , -0.17,  0.23,  1.07,  1.12,  1.21,  1.01, -0.16, -0.01],\n",
       "       [ 0.14,  0.24,  0.17,  0.35, -0.33,  2.5 ,  1.68, -0.29, -0.3 ,\n",
       "         0.3 ,  0.8 ,  1.6 ,  0.11,  0.95,  0.95,  1.02,  0.84,  0.95,\n",
       "         0.83,  0.35, -0.27, -0.86, -0.26,  0.33,  0.24,  0.34,  0.41,\n",
       "         0.47,  0.95,  0.34,  0.53,  0.58, -0.45, -0.55, -0.37, -0.34,\n",
       "        -0.05, -0.5 ,  0.53,  0.63,  0.59,  0.54, -0.53,  0.63, -0.31,\n",
       "         0.33, -0.17,  0.23, -0.92, -1.02, -1.18, -0.35, -0.16, -0.01],\n",
       "       [ 0.75,  0.24,  0.88,  0.35,  0.9 ,  2.5 ,  2.8 ,  1.  ,  0.99,\n",
       "         1.  ,  1.41,  0.92,  0.79,  1.62,  0.95,  1.02,  0.84,  0.95,\n",
       "         0.83,  1.64, -0.27, -0.17, -0.26, -0.34,  0.24, -0.33, -0.28,\n",
       "        -0.21, -0.31,  1.  , -0.08,  0.58,  0.11,  0.06, -0.37, -0.34,\n",
       "         0.53,  0.66,  1.12,  1.19,  0.  , -0.1 ,  0.22,  0.04,  0.36,\n",
       "        -0.4 , -0.17,  0.23,  0.41,  0.41,  0.42, -0.35, -0.16, -0.01],\n",
       "       [ 0.14,  0.24, -0.54, -0.32, -0.33,  0.28, -0.55, -0.94, -0.94,\n",
       "        -1.11, -1.03, -0.45, -1.25, -0.38, -0.38, -0.32, -0.41, -0.33,\n",
       "         0.22, -0.3 , -0.27, -0.86, -0.88, -1.01, -1.07,  0.34, -0.28,\n",
       "         0.47, -0.31, -0.33, -0.68, -0.65, -0.45, -0.55, -0.91, -0.9 ,\n",
       "        -1.22, -1.07, -0.05, -0.49, -1.16, -0.1 ,  0.22, -1.16, -0.31,\n",
       "        -0.4 , -0.8 , -0.65,  0.41, -0.31, -0.38, -0.35, -0.83, -1.21]])"
      ]
     },
     "execution_count": 112,
     "metadata": {},
     "output_type": "execute_result"
    }
   ],
   "source": [
    "from sklearn import preprocessing\n",
    "X = preprocessing.StandardScaler().fit(X).transform(X)\n",
    "X[0:5]"
   ]
  },
  {
   "cell_type": "code",
   "execution_count": 113,
   "metadata": {},
   "outputs": [
    {
     "name": "stdout",
     "output_type": "stream",
     "text": [
      "Train set: (136, 54) (136,)\n",
      "Test set: (34, 54) (34,)\n"
     ]
    }
   ],
   "source": [
    "from sklearn.model_selection import train_test_split\n",
    "X_train, X_test, y_train, y_test = train_test_split( X, y, test_size=0.2, random_state=4)\n",
    "print ('Train set:', X_train.shape,  y_train.shape)\n",
    "print ('Test set:', X_test.shape,  y_test.shape)"
   ]
  },
  {
   "cell_type": "code",
   "execution_count": 114,
   "metadata": {},
   "outputs": [
    {
     "data": {
      "text/plain": [
       "LogisticRegression(C=0.01, class_weight=None, dual=False, fit_intercept=True,\n",
       "                   intercept_scaling=1, l1_ratio=None, max_iter=100,\n",
       "                   multi_class='warn', n_jobs=None, penalty='l2',\n",
       "                   random_state=None, solver='liblinear', tol=0.0001, verbose=0,\n",
       "                   warm_start=False)"
      ]
     },
     "execution_count": 114,
     "metadata": {},
     "output_type": "execute_result"
    }
   ],
   "source": [
    "from sklearn.linear_model import LogisticRegression\n",
    "from sklearn.metrics import confusion_matrix\n",
    "LR = LogisticRegression(C=0.01, solver='liblinear').fit(X_train,y_train)\n",
    "LR"
   ]
  },
  {
   "cell_type": "markdown",
   "metadata": {},
   "source": [
    "Sekarang kita dapat memprediksi menggunakan data testing:"
   ]
  },
  {
   "cell_type": "code",
   "execution_count": 115,
   "metadata": {},
   "outputs": [
    {
     "data": {
      "text/plain": [
       "array([0, 0, 1, 1, 0, 1, 0, 1, 1, 0, 0, 0, 1, 0, 0, 1, 0, 0, 0, 1, 1, 1,\n",
       "       1, 0, 0, 1, 1, 0, 1, 1, 1, 0, 0, 1], dtype=int64)"
      ]
     },
     "execution_count": 115,
     "metadata": {},
     "output_type": "execute_result"
    }
   ],
   "source": [
    "yhat = LR.predict(X_test)\n",
    "yhat"
   ]
  },
  {
   "cell_type": "markdown",
   "metadata": {},
   "source": [
    "predict_proba mengembalikan taksiran untuk semua kelas yang diperintah oleh label Class. Jadi, kolom pertama adalah probabilitas untuk Class yang bernilai 1, P (Y=1|X), dan kolom kedua adalah probabilitas Class 0, P (Y=0|X)"
   ]
  },
  {
   "cell_type": "code",
   "execution_count": 116,
   "metadata": {},
   "outputs": [
    {
     "data": {
      "text/plain": [
       "array([[0.92, 0.08],\n",
       "       [0.91, 0.09],\n",
       "       [0.03, 0.97],\n",
       "       [0.05, 0.95],\n",
       "       [0.94, 0.06],\n",
       "       [0.02, 0.98],\n",
       "       [0.9 , 0.1 ],\n",
       "       [0.16, 0.84],\n",
       "       [0.06, 0.94],\n",
       "       [0.96, 0.04],\n",
       "       [0.92, 0.08],\n",
       "       [0.93, 0.07],\n",
       "       [0.05, 0.95],\n",
       "       [0.92, 0.08],\n",
       "       [0.9 , 0.1 ],\n",
       "       [0.15, 0.85],\n",
       "       [0.95, 0.05],\n",
       "       [0.92, 0.08],\n",
       "       [0.93, 0.07],\n",
       "       [0.03, 0.97],\n",
       "       [0.03, 0.97],\n",
       "       [0.02, 0.98],\n",
       "       [0.07, 0.93],\n",
       "       [0.93, 0.07],\n",
       "       [0.92, 0.08],\n",
       "       [0.02, 0.98],\n",
       "       [0.29, 0.71],\n",
       "       [0.96, 0.04],\n",
       "       [0.02, 0.98],\n",
       "       [0.03, 0.97],\n",
       "       [0.05, 0.95],\n",
       "       [0.94, 0.06],\n",
       "       [0.85, 0.15],\n",
       "       [0.03, 0.97]])"
      ]
     },
     "execution_count": 116,
     "metadata": {},
     "output_type": "execute_result"
    }
   ],
   "source": [
    "yhat_prob = LR.predict_proba(X_test)\n",
    "yhat_prob"
   ]
  },
  {
   "cell_type": "markdown",
   "metadata": {},
   "source": [
    "Selanjutnya akan diuji dengan indeks jaccard untuk mengevaluasi akurasi. Jaccard didefinisikan sebagai ukuran titik potong dibagi dengan ukuran penyatuan dua set label. Jika seluruh rangkaian label yang diprediksi untuk sampel sesuai dengan label yang benar, maka akurasi subsetnya adalah 1.0 jika tidak maka bernilai 0.0"
   ]
  },
  {
   "cell_type": "code",
   "execution_count": 117,
   "metadata": {},
   "outputs": [
    {
     "name": "stderr",
     "output_type": "stream",
     "text": [
      "e:\\digitalent\\eda\\lib\\site-packages\\sklearn\\metrics\\classification.py:635: DeprecationWarning: jaccard_similarity_score has been deprecated and replaced with jaccard_score. It will be removed in version 0.23. This implementation has surprising behavior for binary and multiclass classification tasks.\n",
      "  'and multiclass classification tasks.', DeprecationWarning)\n"
     ]
    },
    {
     "data": {
      "text/plain": [
       "0.9705882352941176"
      ]
     },
     "execution_count": 117,
     "metadata": {},
     "output_type": "execute_result"
    }
   ],
   "source": [
    "from sklearn.metrics import jaccard_similarity_score\n",
    "jaccard_similarity_score(y_test, yhat)"
   ]
  },
  {
   "cell_type": "markdown",
   "metadata": {},
   "source": [
    "Cara lain untuk melihat keakuratan classifier adalah dengan melihat confusion matrix. \n",
    "\n",
    "Confusion matrix memberi banyak informasi tentang seberapa baik model yang dimiliki."
   ]
  },
  {
   "cell_type": "code",
   "execution_count": 125,
   "metadata": {},
   "outputs": [
    {
     "name": "stdout",
     "output_type": "stream",
     "text": [
      "[[17  1]\n",
      " [ 0 16]]\n"
     ]
    }
   ],
   "source": [
    "from sklearn.metrics import classification_report, confusion_matrix\n",
    "import itertools\n",
    "def plot_confusion_matrix(cm, classes,\n",
    "                          normalize=False,\n",
    "                          title='Confusion matrix',\n",
    "                          cmap=plt.cm.Blues):\n",
    "    \"\"\"\n",
    "    This function prints and plots the confusion matrix.\n",
    "    Normalization can be applied by setting `normalize=True`.\n",
    "    \"\"\"\n",
    "    if normalize:\n",
    "        cm = cm.astype('float') / cm.sum(axis=1)[:, np.newaxis]\n",
    "        print(\"Normalized confusion matrix\")\n",
    "    else:\n",
    "        print('Confusion matrix, without normalization')\n",
    "\n",
    "    print(cm)\n",
    "\n",
    "    plt.imshow(cm, interpolation='nearest', cmap=cmap)\n",
    "    plt.title(title)\n",
    "    plt.colorbar()\n",
    "    tick_marks = np.arange(len(classes))\n",
    "    plt.xticks(tick_marks, classes, rotation=45)\n",
    "    plt.yticks(tick_marks, classes)\n",
    "\n",
    "    fmt = '.2f' if normalize else 'd'\n",
    "    thresh = cm.max() / 2.\n",
    "    for i, j in itertools.product(range(cm.shape[0]), range(cm.shape[1])):\n",
    "        plt.text(j, i, format(cm[i, j], fmt),\n",
    "                 horizontalalignment=\"center\",\n",
    "                 color=\"white\" if cm[i, j] > thresh else \"black\")\n",
    "\n",
    "    plt.tight_layout()\n",
    "    plt.ylabel('True label')\n",
    "    plt.xlabel('Predicted label')\n",
    "print(confusion_matrix(y_test, yhat, labels=[1,0]))"
   ]
  },
  {
   "cell_type": "code",
   "execution_count": 127,
   "metadata": {},
   "outputs": [
    {
     "name": "stdout",
     "output_type": "stream",
     "text": [
      "Confusion matrix, without normalization\n",
      "[[17  1]\n",
      " [ 0 16]]\n"
     ]
    },
    {
     "data": {
      "image/png": "[encoded data removed]",
      "text/plain": [
       "<Figure size 432x288 with 2 Axes>"
      ]
     },
     "metadata": {},
     "output_type": "display_data"
    }
   ],
   "source": [
    "# Compute confusion matrix\n",
    "cnf_matrix = confusion_matrix(y_test, yhat, labels=[1,0])\n",
    "np.set_printoptions(precision=2)\n",
    "\n",
    "\n",
    "# Plot non-normalized confusion matrix\n",
    "plt.figure()\n",
    "plot_confusion_matrix(cnf_matrix, classes=['class=1','class=0'],normalize= False,  title='Confusion matrix')"
   ]
  },
  {
   "cell_type": "markdown",
   "metadata": {},
   "source": [
    "Baris pertama adalah prediksi pasangan yang tidak bercerai: 17 pasangan dengan benar diklasifikasikan tidak bercerai (disebut true negative) dan 1 yang salah diklasifikasikan sebagai yang tidak bercerai (false positive).\n",
    "\n",
    "Baris kedua adalah tentang prediksi perceraian: 0 pasangan yang salah diklasifikasikan bercerai (false negative) dan 16 pasangan diklasifikasikan benar bercerai (true positive)."
   ]
  },
  {
   "cell_type": "code",
   "execution_count": 159,
   "metadata": {},
   "outputs": [
    {
     "name": "stdout",
     "output_type": "stream",
     "text": [
      "              precision    recall  f1-score   support\n",
      "\n",
      "           0       0.94      1.00      0.97        16\n",
      "           1       1.00      0.94      0.97        18\n",
      "\n",
      "    accuracy                           0.97        34\n",
      "   macro avg       0.97      0.97      0.97        34\n",
      "weighted avg       0.97      0.97      0.97        34\n",
      "\n"
     ]
    }
   ],
   "source": [
    "print (classification_report(y_test, yhat))"
   ]
  },
  {
   "cell_type": "markdown",
   "metadata": {},
   "source": [
    "Precision adalah ukuran ketepatan label Class telah diprediksi, recall merupakan tingkat true positive.\n",
    "Jadi, kita dapat menghitung precision dan recall setiap kelas.\n",
    "\n",
    "Kemudian, dihitung skor f1 untuk setiap label berdasarkan precision dan recall label. Skor f1 adalah rata-rata harmonik dari precision dan recall, dimana skor f1 mencapai nilai terbaiknya pada 1 (precision dan recall sempurna) dan terburuk bernilai 0.\n",
    "\n",
    "Dan kita dapat mengetahui akurasi rata-rata untuk klasifikasi adalah rata-rata skor f1 untuk kedua label, yaitu 0.97 dalam kasus prediksi tingkat perceraian."
   ]
  },
  {
   "cell_type": "code",
   "execution_count": null,
   "metadata": {},
   "outputs": [],
   "source": []
  }
 ],
 "metadata": {
  "kernelspec": {
   "display_name": "Python 3",
   "language": "python",
   "name": "python3"
  },
  "language_info": {
   "codemirror_mode": {
    "name": "ipython",
    "version": 3
   },
   "file_extension": ".py",
   "mimetype": "text/x-python",
   "name": "python",
   "nbconvert_exporter": "python",
   "pygments_lexer": "ipython3",
   "version": "3.6.9"
  }
 },
 "nbformat": 4,
 "nbformat_minor": 2
}
